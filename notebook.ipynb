{
  "nbformat": 4,
  "nbformat_minor": 0,
  "metadata": {
    "accelerator": "TPU",
    "colab": {
      "name": "AI_Project_Final.ipynb",
      "provenance": [],
      "collapsed_sections": []
    },
    "kernelspec": {
      "display_name": "Python 3",
      "language": "python",
      "name": "python3"
    },
    "language_info": {
      "codemirror_mode": {
        "name": "ipython",
        "version": 3
      },
      "file_extension": ".py",
      "mimetype": "text/x-python",
      "name": "python",
      "nbconvert_exporter": "python",
      "pygments_lexer": "ipython3",
      "version": "3.8.3"
    }
  },
  "cells": [
    {
      "cell_type": "markdown",
      "metadata": {
        "id": "2_Amu3hLJ-j5"
      },
      "source": [
        "#**Problem statement**:\n",
        "\n",
        "Predicting Gas Turbine plant's decay state coefficient, two outputs:\n",
        "**GT Compressor decay state coefficient** and **GT Turbine decay state coefficient**.\n",
        "\n",
        "Phases of the project are as follows:\n",
        "1. Data Preprocessing\n",
        "2. Exploratory Data Analysis\n",
        "3. Data Visualization\n",
        "4. Feature Selection\n",
        "5. Regression Models\n",
        "6. Comparative Study\n",
        "\n"
      ]
    },
    {
      "cell_type": "markdown",
      "metadata": {
        "id": "iLAp6F0HBPMT"
      },
      "source": [
        "#Importing necessary Libraries for the project."
      ]
    },
    {
      "cell_type": "code",
      "metadata": {
        "id": "Dfla4Phu_iPA",
        "colab": {
          "base_uri": "https://localhost:8080/",
          "height": 16
        },
        "outputId": "9b836ff9-c376-416e-f82d-af72b80d94d6"
      },
      "source": [
        "import numpy as np # linear algebra\n",
        "import pandas as pd # data processing, CSV file I/O (e.g. pd.read_csv)\n",
        "import sys\n",
        "import matplotlib.pyplot as plt\n",
        "%matplotlib inline\n",
        "import seaborn as sns\n",
        "from scipy import stats\n",
        "\n",
        "#import chart_studio.plotly as py\n",
        "from plotly import __version__\n",
        "import plotly.express as px\n",
        "import cufflinks as cf\n",
        "from plotly.offline import download_plotlyjs,init_notebook_mode,plot,iplot\n",
        "init_notebook_mode(connected=True)\n",
        "#from plotly.offline import iplot, init_notebook_mode\n",
        "#import plotly.graph_objs as go\n",
        "cf.go_offline()\n",
        "\n",
        "import scipy.stats as stats\n",
        "\n",
        "from sklearn.feature_selection import RFE\n",
        "from sklearn.model_selection import train_test_split\n",
        "from sklearn.linear_model import LinearRegression\n",
        "from sklearn.preprocessing import MinMaxScaler\n",
        "from sklearn.preprocessing import StandardScaler\n",
        "import statsmodels.api as sm\n",
        "from sklearn.metrics import explained_variance_score\n",
        "from statsmodels.stats.outliers_influence import variance_inflation_factor\n",
        "from sklearn.metrics import r2_score\n",
        "from sklearn.ensemble import RandomForestRegressor\n",
        "from sklearn.tree import DecisionTreeRegressor\n",
        "from sklearn.neighbors import KNeighborsRegressor\n",
        "from sklearn.metrics import mean_squared_error\n",
        "from sklearn.metrics import mean_absolute_error\n",
        "\n",
        "#import ipyvolume as ipv"
      ],
      "execution_count": null,
      "outputs": [
        {
          "output_type": "display_data",
          "data": {
            "text/html": [
              "        <script type=\"text/javascript\">\n",
              "        window.PlotlyConfig = {MathJaxConfig: 'local'};\n",
              "        if (window.MathJax) {MathJax.Hub.Config({SVG: {font: \"STIX-Web\"}});}\n",
              "        if (typeof require !== 'undefined') {\n",
              "        require.undef(\"plotly\");\n",
              "        requirejs.config({\n",
              "            paths: {\n",
              "                'plotly': ['https://cdn.plot.ly/plotly-latest.min']\n",
              "            }\n",
              "        });\n",
              "        require(['plotly'], function(Plotly) {\n",
              "            window._Plotly = Plotly;\n",
              "        });\n",
              "        }\n",
              "        </script>\n",
              "        "
            ]
          },
          "metadata": {
            "tags": []
          }
        },
        {
          "output_type": "display_data",
          "data": {
            "text/html": [
              "        <script type=\"text/javascript\">\n",
              "        window.PlotlyConfig = {MathJaxConfig: 'local'};\n",
              "        if (window.MathJax) {MathJax.Hub.Config({SVG: {font: \"STIX-Web\"}});}\n",
              "        if (typeof require !== 'undefined') {\n",
              "        require.undef(\"plotly\");\n",
              "        requirejs.config({\n",
              "            paths: {\n",
              "                'plotly': ['https://cdn.plot.ly/plotly-latest.min']\n",
              "            }\n",
              "        });\n",
              "        require(['plotly'], function(Plotly) {\n",
              "            window._Plotly = Plotly;\n",
              "        });\n",
              "        }\n",
              "        </script>\n",
              "        "
            ]
          },
          "metadata": {
            "tags": []
          }
        }
      ]
    },
    {
      "cell_type": "code",
      "metadata": {
        "id": "yU_R5UwUFnF7"
      },
      "source": [
        "#from google.colab import drive\n",
        "#drive.mount('/content/drive')"
      ],
      "execution_count": null,
      "outputs": []
    },
    {
      "cell_type": "markdown",
      "metadata": {
        "id": "UXqsyt-z2ZOt"
      },
      "source": [
        "#Importing Dataset"
      ]
    },
    {
      "cell_type": "code",
      "metadata": {
        "id": "09lnAqFuFwpG"
      },
      "source": [
        "#data = pd.read_csv('/content/drive/MyDrive/Turbine_dataset.csv')\n",
        "data = pd.read_csv('Turbine_dataset.csv')"
      ],
      "execution_count": null,
      "outputs": []
    },
    {
      "cell_type": "code",
      "metadata": {
        "colab": {
          "base_uri": "https://localhost:8080/",
          "height": 467
        },
        "id": "VPMlACV6L-lk",
        "outputId": "785d84d9-1dca-4b1a-860d-36f9d77ab5de"
      },
      "source": [
        "data.head(10)"
      ],
      "execution_count": null,
      "outputs": [
        {
          "output_type": "execute_result",
          "data": {
            "text/html": [
              "<div>\n",
              "<style scoped>\n",
              "    .dataframe tbody tr th:only-of-type {\n",
              "        vertical-align: middle;\n",
              "    }\n",
              "\n",
              "    .dataframe tbody tr th {\n",
              "        vertical-align: top;\n",
              "    }\n",
              "\n",
              "    .dataframe thead th {\n",
              "        text-align: right;\n",
              "    }\n",
              "</style>\n",
              "<table border=\"1\" class=\"dataframe\">\n",
              "  <thead>\n",
              "    <tr style=\"text-align: right;\">\n",
              "      <th></th>\n",
              "      <th>Unnamed: 0</th>\n",
              "      <th>Lever position (lp) [ ]</th>\n",
              "      <th>Ship speed (v) [knots]</th>\n",
              "      <th>Gas Turbine shaft torque (GTT) [kN m]</th>\n",
              "      <th>Gas Turbine rate of revolutions (GTn) [rpm]</th>\n",
              "      <th>Gas Generator rate of revolutions (GGn) [rpm]</th>\n",
              "      <th>Starboard Propeller Torque (Ts) [kN]</th>\n",
              "      <th>Port Propeller Torque (Tp) [kN]</th>\n",
              "      <th>HP Turbine exit temperature (T48) [C]</th>\n",
              "      <th>GT Compressor inlet air temperature (T1) [C]</th>\n",
              "      <th>GT Compressor outlet air temperature (T2) [C]</th>\n",
              "      <th>HP Turbine exit pressure (P48) [bar]</th>\n",
              "      <th>GT Compressor inlet air pressure (P1) [bar]</th>\n",
              "      <th>GT Compressor outlet air pressure (P2) [bar]</th>\n",
              "      <th>Gas Turbine exhaust gas pressure (Pexh) [bar]</th>\n",
              "      <th>Turbine Injecton Control (TIC) [%]</th>\n",
              "      <th>Fuel flow (mf) [kg/s]</th>\n",
              "      <th>GT Compressor decay state coefficient.</th>\n",
              "      <th>GT Turbine decay state coefficient.</th>\n",
              "    </tr>\n",
              "  </thead>\n",
              "  <tbody>\n",
              "    <tr>\n",
              "      <th>0</th>\n",
              "      <td>0</td>\n",
              "      <td>9.300</td>\n",
              "      <td>27.0</td>\n",
              "      <td>72762.205</td>\n",
              "      <td>3560.393</td>\n",
              "      <td>9753.812</td>\n",
              "      <td>644.806</td>\n",
              "      <td>644.806</td>\n",
              "      <td>1086.583</td>\n",
              "      <td>288.0</td>\n",
              "      <td>780.304</td>\n",
              "      <td>4.523</td>\n",
              "      <td>0.998</td>\n",
              "      <td>22.879</td>\n",
              "      <td>1.050</td>\n",
              "      <td>90.435</td>\n",
              "      <td>1.790</td>\n",
              "      <td>0.973</td>\n",
              "      <td>0.978</td>\n",
              "    </tr>\n",
              "    <tr>\n",
              "      <th>1</th>\n",
              "      <td>1</td>\n",
              "      <td>6.175</td>\n",
              "      <td>18.0</td>\n",
              "      <td>29760.552</td>\n",
              "      <td>2306.825</td>\n",
              "      <td>8780.012</td>\n",
              "      <td>246.011</td>\n",
              "      <td>246.011</td>\n",
              "      <td>776.921</td>\n",
              "      <td>288.0</td>\n",
              "      <td>665.511</td>\n",
              "      <td>2.518</td>\n",
              "      <td>0.998</td>\n",
              "      <td>13.438</td>\n",
              "      <td>1.030</td>\n",
              "      <td>34.596</td>\n",
              "      <td>0.685</td>\n",
              "      <td>0.995</td>\n",
              "      <td>0.975</td>\n",
              "    </tr>\n",
              "    <tr>\n",
              "      <th>2</th>\n",
              "      <td>2</td>\n",
              "      <td>3.144</td>\n",
              "      <td>9.0</td>\n",
              "      <td>8375.774</td>\n",
              "      <td>1386.739</td>\n",
              "      <td>7051.621</td>\n",
              "      <td>60.318</td>\n",
              "      <td>60.318</td>\n",
              "      <td>589.764</td>\n",
              "      <td>288.0</td>\n",
              "      <td>580.587</td>\n",
              "      <td>1.392</td>\n",
              "      <td>0.998</td>\n",
              "      <td>7.566</td>\n",
              "      <td>1.020</td>\n",
              "      <td>12.477</td>\n",
              "      <td>0.247</td>\n",
              "      <td>0.980</td>\n",
              "      <td>0.978</td>\n",
              "    </tr>\n",
              "    <tr>\n",
              "      <th>3</th>\n",
              "      <td>3</td>\n",
              "      <td>3.144</td>\n",
              "      <td>9.0</td>\n",
              "      <td>8377.589</td>\n",
              "      <td>1386.748</td>\n",
              "      <td>7098.469</td>\n",
              "      <td>60.339</td>\n",
              "      <td>60.339</td>\n",
              "      <td>570.651</td>\n",
              "      <td>288.0</td>\n",
              "      <td>576.565</td>\n",
              "      <td>1.390</td>\n",
              "      <td>0.998</td>\n",
              "      <td>7.409</td>\n",
              "      <td>1.021</td>\n",
              "      <td>11.678</td>\n",
              "      <td>0.231</td>\n",
              "      <td>0.984</td>\n",
              "      <td>1.000</td>\n",
              "    </tr>\n",
              "    <tr>\n",
              "      <th>4</th>\n",
              "      <td>4</td>\n",
              "      <td>6.175</td>\n",
              "      <td>18.0</td>\n",
              "      <td>29761.091</td>\n",
              "      <td>2306.825</td>\n",
              "      <td>8782.024</td>\n",
              "      <td>246.021</td>\n",
              "      <td>246.021</td>\n",
              "      <td>769.855</td>\n",
              "      <td>288.0</td>\n",
              "      <td>663.682</td>\n",
              "      <td>2.518</td>\n",
              "      <td>0.998</td>\n",
              "      <td>13.374</td>\n",
              "      <td>1.031</td>\n",
              "      <td>34.154</td>\n",
              "      <td>0.676</td>\n",
              "      <td>0.998</td>\n",
              "      <td>0.980</td>\n",
              "    </tr>\n",
              "    <tr>\n",
              "      <th>5</th>\n",
              "      <td>5</td>\n",
              "      <td>7.148</td>\n",
              "      <td>21.0</td>\n",
              "      <td>38990.324</td>\n",
              "      <td>2678.068</td>\n",
              "      <td>9126.509</td>\n",
              "      <td>332.301</td>\n",
              "      <td>332.301</td>\n",
              "      <td>837.934</td>\n",
              "      <td>288.0</td>\n",
              "      <td>693.706</td>\n",
              "      <td>2.972</td>\n",
              "      <td>0.998</td>\n",
              "      <td>15.649</td>\n",
              "      <td>1.035</td>\n",
              "      <td>44.862</td>\n",
              "      <td>0.888</td>\n",
              "      <td>0.967</td>\n",
              "      <td>0.980</td>\n",
              "    </tr>\n",
              "    <tr>\n",
              "      <th>6</th>\n",
              "      <td>6</td>\n",
              "      <td>8.206</td>\n",
              "      <td>24.0</td>\n",
              "      <td>50994.854</td>\n",
              "      <td>3087.533</td>\n",
              "      <td>9311.074</td>\n",
              "      <td>438.083</td>\n",
              "      <td>438.083</td>\n",
              "      <td>930.553</td>\n",
              "      <td>288.0</td>\n",
              "      <td>734.485</td>\n",
              "      <td>3.582</td>\n",
              "      <td>0.998</td>\n",
              "      <td>18.502</td>\n",
              "      <td>1.041</td>\n",
              "      <td>60.855</td>\n",
              "      <td>1.205</td>\n",
              "      <td>0.968</td>\n",
              "      <td>0.984</td>\n",
              "    </tr>\n",
              "    <tr>\n",
              "      <th>7</th>\n",
              "      <td>7</td>\n",
              "      <td>6.175</td>\n",
              "      <td>18.0</td>\n",
              "      <td>29798.156</td>\n",
              "      <td>2307.217</td>\n",
              "      <td>8847.578</td>\n",
              "      <td>246.318</td>\n",
              "      <td>246.318</td>\n",
              "      <td>769.867</td>\n",
              "      <td>288.0</td>\n",
              "      <td>669.416</td>\n",
              "      <td>2.495</td>\n",
              "      <td>0.998</td>\n",
              "      <td>13.028</td>\n",
              "      <td>1.030</td>\n",
              "      <td>33.814</td>\n",
              "      <td>0.669</td>\n",
              "      <td>0.956</td>\n",
              "      <td>1.000</td>\n",
              "    </tr>\n",
              "    <tr>\n",
              "      <th>8</th>\n",
              "      <td>8</td>\n",
              "      <td>7.148</td>\n",
              "      <td>21.0</td>\n",
              "      <td>38999.258</td>\n",
              "      <td>2678.058</td>\n",
              "      <td>9121.944</td>\n",
              "      <td>332.401</td>\n",
              "      <td>332.401</td>\n",
              "      <td>816.202</td>\n",
              "      <td>288.0</td>\n",
              "      <td>686.368</td>\n",
              "      <td>2.979</td>\n",
              "      <td>0.998</td>\n",
              "      <td>15.558</td>\n",
              "      <td>1.036</td>\n",
              "      <td>43.461</td>\n",
              "      <td>0.861</td>\n",
              "      <td>0.986</td>\n",
              "      <td>0.989</td>\n",
              "    </tr>\n",
              "    <tr>\n",
              "      <th>9</th>\n",
              "      <td>9</td>\n",
              "      <td>9.300</td>\n",
              "      <td>27.0</td>\n",
              "      <td>72779.442</td>\n",
              "      <td>3560.436</td>\n",
              "      <td>9789.399</td>\n",
              "      <td>644.966</td>\n",
              "      <td>644.966</td>\n",
              "      <td>1090.551</td>\n",
              "      <td>288.0</td>\n",
              "      <td>784.201</td>\n",
              "      <td>4.477</td>\n",
              "      <td>0.998</td>\n",
              "      <td>22.250</td>\n",
              "      <td>1.049</td>\n",
              "      <td>89.860</td>\n",
              "      <td>1.779</td>\n",
              "      <td>0.955</td>\n",
              "      <td>0.997</td>\n",
              "    </tr>\n",
              "  </tbody>\n",
              "</table>\n",
              "</div>"
            ],
            "text/plain": [
              "   Unnamed: 0  ...  GT Turbine decay state coefficient.\n",
              "0           0  ...                                0.978\n",
              "1           1  ...                                0.975\n",
              "2           2  ...                                0.978\n",
              "3           3  ...                                1.000\n",
              "4           4  ...                                0.980\n",
              "5           5  ...                                0.980\n",
              "6           6  ...                                0.984\n",
              "7           7  ...                                1.000\n",
              "8           8  ...                                0.989\n",
              "9           9  ...                                0.997\n",
              "\n",
              "[10 rows x 19 columns]"
            ]
          },
          "metadata": {
            "tags": []
          },
          "execution_count": 5
        }
      ]
    },
    {
      "cell_type": "code",
      "metadata": {
        "colab": {
          "base_uri": "https://localhost:8080/",
          "height": 526
        },
        "id": "YGWY9phvg_Uh",
        "outputId": "cb042b4f-5cb1-4c08-b757-961a28b8fe73"
      },
      "source": [
        "data.drop(columns=['Unnamed: 0'], axis = 1, inplace = True)\n",
        "data"
      ],
      "execution_count": null,
      "outputs": [
        {
          "output_type": "execute_result",
          "data": {
            "text/html": [
              "<div>\n",
              "<style scoped>\n",
              "    .dataframe tbody tr th:only-of-type {\n",
              "        vertical-align: middle;\n",
              "    }\n",
              "\n",
              "    .dataframe tbody tr th {\n",
              "        vertical-align: top;\n",
              "    }\n",
              "\n",
              "    .dataframe thead th {\n",
              "        text-align: right;\n",
              "    }\n",
              "</style>\n",
              "<table border=\"1\" class=\"dataframe\">\n",
              "  <thead>\n",
              "    <tr style=\"text-align: right;\">\n",
              "      <th></th>\n",
              "      <th>Lever position (lp) [ ]</th>\n",
              "      <th>Ship speed (v) [knots]</th>\n",
              "      <th>Gas Turbine shaft torque (GTT) [kN m]</th>\n",
              "      <th>Gas Turbine rate of revolutions (GTn) [rpm]</th>\n",
              "      <th>Gas Generator rate of revolutions (GGn) [rpm]</th>\n",
              "      <th>Starboard Propeller Torque (Ts) [kN]</th>\n",
              "      <th>Port Propeller Torque (Tp) [kN]</th>\n",
              "      <th>HP Turbine exit temperature (T48) [C]</th>\n",
              "      <th>GT Compressor inlet air temperature (T1) [C]</th>\n",
              "      <th>GT Compressor outlet air temperature (T2) [C]</th>\n",
              "      <th>HP Turbine exit pressure (P48) [bar]</th>\n",
              "      <th>GT Compressor inlet air pressure (P1) [bar]</th>\n",
              "      <th>GT Compressor outlet air pressure (P2) [bar]</th>\n",
              "      <th>Gas Turbine exhaust gas pressure (Pexh) [bar]</th>\n",
              "      <th>Turbine Injecton Control (TIC) [%]</th>\n",
              "      <th>Fuel flow (mf) [kg/s]</th>\n",
              "      <th>GT Compressor decay state coefficient.</th>\n",
              "      <th>GT Turbine decay state coefficient.</th>\n",
              "    </tr>\n",
              "  </thead>\n",
              "  <tbody>\n",
              "    <tr>\n",
              "      <th>0</th>\n",
              "      <td>9.300</td>\n",
              "      <td>27.0</td>\n",
              "      <td>72762.205</td>\n",
              "      <td>3560.393</td>\n",
              "      <td>9753.812</td>\n",
              "      <td>644.806</td>\n",
              "      <td>644.806</td>\n",
              "      <td>1086.583</td>\n",
              "      <td>288.0</td>\n",
              "      <td>780.304</td>\n",
              "      <td>4.523</td>\n",
              "      <td>0.998</td>\n",
              "      <td>22.879</td>\n",
              "      <td>1.050</td>\n",
              "      <td>90.435</td>\n",
              "      <td>1.790</td>\n",
              "      <td>0.973</td>\n",
              "      <td>0.978</td>\n",
              "    </tr>\n",
              "    <tr>\n",
              "      <th>1</th>\n",
              "      <td>6.175</td>\n",
              "      <td>18.0</td>\n",
              "      <td>29760.552</td>\n",
              "      <td>2306.825</td>\n",
              "      <td>8780.012</td>\n",
              "      <td>246.011</td>\n",
              "      <td>246.011</td>\n",
              "      <td>776.921</td>\n",
              "      <td>288.0</td>\n",
              "      <td>665.511</td>\n",
              "      <td>2.518</td>\n",
              "      <td>0.998</td>\n",
              "      <td>13.438</td>\n",
              "      <td>1.030</td>\n",
              "      <td>34.596</td>\n",
              "      <td>0.685</td>\n",
              "      <td>0.995</td>\n",
              "      <td>0.975</td>\n",
              "    </tr>\n",
              "    <tr>\n",
              "      <th>2</th>\n",
              "      <td>3.144</td>\n",
              "      <td>9.0</td>\n",
              "      <td>8375.774</td>\n",
              "      <td>1386.739</td>\n",
              "      <td>7051.621</td>\n",
              "      <td>60.318</td>\n",
              "      <td>60.318</td>\n",
              "      <td>589.764</td>\n",
              "      <td>288.0</td>\n",
              "      <td>580.587</td>\n",
              "      <td>1.392</td>\n",
              "      <td>0.998</td>\n",
              "      <td>7.566</td>\n",
              "      <td>1.020</td>\n",
              "      <td>12.477</td>\n",
              "      <td>0.247</td>\n",
              "      <td>0.980</td>\n",
              "      <td>0.978</td>\n",
              "    </tr>\n",
              "    <tr>\n",
              "      <th>3</th>\n",
              "      <td>3.144</td>\n",
              "      <td>9.0</td>\n",
              "      <td>8377.589</td>\n",
              "      <td>1386.748</td>\n",
              "      <td>7098.469</td>\n",
              "      <td>60.339</td>\n",
              "      <td>60.339</td>\n",
              "      <td>570.651</td>\n",
              "      <td>288.0</td>\n",
              "      <td>576.565</td>\n",
              "      <td>1.390</td>\n",
              "      <td>0.998</td>\n",
              "      <td>7.409</td>\n",
              "      <td>1.021</td>\n",
              "      <td>11.678</td>\n",
              "      <td>0.231</td>\n",
              "      <td>0.984</td>\n",
              "      <td>1.000</td>\n",
              "    </tr>\n",
              "    <tr>\n",
              "      <th>4</th>\n",
              "      <td>6.175</td>\n",
              "      <td>18.0</td>\n",
              "      <td>29761.091</td>\n",
              "      <td>2306.825</td>\n",
              "      <td>8782.024</td>\n",
              "      <td>246.021</td>\n",
              "      <td>246.021</td>\n",
              "      <td>769.855</td>\n",
              "      <td>288.0</td>\n",
              "      <td>663.682</td>\n",
              "      <td>2.518</td>\n",
              "      <td>0.998</td>\n",
              "      <td>13.374</td>\n",
              "      <td>1.031</td>\n",
              "      <td>34.154</td>\n",
              "      <td>0.676</td>\n",
              "      <td>0.998</td>\n",
              "      <td>0.980</td>\n",
              "    </tr>\n",
              "    <tr>\n",
              "      <th>...</th>\n",
              "      <td>...</td>\n",
              "      <td>...</td>\n",
              "      <td>...</td>\n",
              "      <td>...</td>\n",
              "      <td>...</td>\n",
              "      <td>...</td>\n",
              "      <td>...</td>\n",
              "      <td>...</td>\n",
              "      <td>...</td>\n",
              "      <td>...</td>\n",
              "      <td>...</td>\n",
              "      <td>...</td>\n",
              "      <td>...</td>\n",
              "      <td>...</td>\n",
              "      <td>...</td>\n",
              "      <td>...</td>\n",
              "      <td>...</td>\n",
              "      <td>...</td>\n",
              "    </tr>\n",
              "    <tr>\n",
              "      <th>9995</th>\n",
              "      <td>2.088</td>\n",
              "      <td>6.0</td>\n",
              "      <td>5858.780</td>\n",
              "      <td>1349.023</td>\n",
              "      <td>6736.273</td>\n",
              "      <td>23.171</td>\n",
              "      <td>23.171</td>\n",
              "      <td>581.017</td>\n",
              "      <td>288.0</td>\n",
              "      <td>564.922</td>\n",
              "      <td>1.294</td>\n",
              "      <td>0.998</td>\n",
              "      <td>6.991</td>\n",
              "      <td>1.019</td>\n",
              "      <td>21.583</td>\n",
              "      <td>0.245</td>\n",
              "      <td>0.999</td>\n",
              "      <td>0.988</td>\n",
              "    </tr>\n",
              "    <tr>\n",
              "      <th>9996</th>\n",
              "      <td>5.140</td>\n",
              "      <td>15.0</td>\n",
              "      <td>21633.743</td>\n",
              "      <td>1924.349</td>\n",
              "      <td>8497.158</td>\n",
              "      <td>175.288</td>\n",
              "      <td>175.288</td>\n",
              "      <td>696.232</td>\n",
              "      <td>288.0</td>\n",
              "      <td>635.894</td>\n",
              "      <td>2.078</td>\n",
              "      <td>0.998</td>\n",
              "      <td>10.947</td>\n",
              "      <td>1.026</td>\n",
              "      <td>24.481</td>\n",
              "      <td>0.485</td>\n",
              "      <td>0.971</td>\n",
              "      <td>1.000</td>\n",
              "    </tr>\n",
              "    <tr>\n",
              "      <th>9997</th>\n",
              "      <td>8.206</td>\n",
              "      <td>24.0</td>\n",
              "      <td>50994.819</td>\n",
              "      <td>3087.555</td>\n",
              "      <td>9324.455</td>\n",
              "      <td>438.051</td>\n",
              "      <td>438.051</td>\n",
              "      <td>928.531</td>\n",
              "      <td>288.0</td>\n",
              "      <td>737.443</td>\n",
              "      <td>3.560</td>\n",
              "      <td>0.998</td>\n",
              "      <td>18.200</td>\n",
              "      <td>1.041</td>\n",
              "      <td>60.306</td>\n",
              "      <td>1.194</td>\n",
              "      <td>0.953</td>\n",
              "      <td>0.996</td>\n",
              "    </tr>\n",
              "    <tr>\n",
              "      <th>9998</th>\n",
              "      <td>6.175</td>\n",
              "      <td>18.0</td>\n",
              "      <td>29761.078</td>\n",
              "      <td>2306.850</td>\n",
              "      <td>8793.302</td>\n",
              "      <td>245.973</td>\n",
              "      <td>245.973</td>\n",
              "      <td>783.490</td>\n",
              "      <td>288.0</td>\n",
              "      <td>668.558</td>\n",
              "      <td>2.513</td>\n",
              "      <td>0.998</td>\n",
              "      <td>13.412</td>\n",
              "      <td>1.030</td>\n",
              "      <td>34.919</td>\n",
              "      <td>0.691</td>\n",
              "      <td>0.982</td>\n",
              "      <td>0.975</td>\n",
              "    </tr>\n",
              "    <tr>\n",
              "      <th>9999</th>\n",
              "      <td>8.206</td>\n",
              "      <td>24.0</td>\n",
              "      <td>50990.504</td>\n",
              "      <td>3087.329</td>\n",
              "      <td>9300.796</td>\n",
              "      <td>438.031</td>\n",
              "      <td>438.031</td>\n",
              "      <td>929.296</td>\n",
              "      <td>288.0</td>\n",
              "      <td>731.610</td>\n",
              "      <td>3.597</td>\n",
              "      <td>0.998</td>\n",
              "      <td>18.694</td>\n",
              "      <td>1.041</td>\n",
              "      <td>61.034</td>\n",
              "      <td>1.208</td>\n",
              "      <td>0.981</td>\n",
              "      <td>0.977</td>\n",
              "    </tr>\n",
              "  </tbody>\n",
              "</table>\n",
              "<p>10000 rows × 18 columns</p>\n",
              "</div>"
            ],
            "text/plain": [
              "      Lever position (lp) [ ]  ...  GT Turbine decay state coefficient.\n",
              "0                       9.300  ...                                0.978\n",
              "1                       6.175  ...                                0.975\n",
              "2                       3.144  ...                                0.978\n",
              "3                       3.144  ...                                1.000\n",
              "4                       6.175  ...                                0.980\n",
              "...                       ...  ...                                  ...\n",
              "9995                    2.088  ...                                0.988\n",
              "9996                    5.140  ...                                1.000\n",
              "9997                    8.206  ...                                0.996\n",
              "9998                    6.175  ...                                0.975\n",
              "9999                    8.206  ...                                0.977\n",
              "\n",
              "[10000 rows x 18 columns]"
            ]
          },
          "metadata": {
            "tags": []
          },
          "execution_count": 6
        }
      ]
    },
    {
      "cell_type": "code",
      "metadata": {
        "id": "6LmxD7aUw2zy"
      },
      "source": [
        "data.rename(columns={'Lever position (lp) [ ]':'Lever_position',\n",
        "                     'Ship speed (v) [knots]':'Ship_speed',\n",
        "                     'Gas Turbine shaft torque (GTT) [kN m]':'Gas_turbine_shaft_torque',\n",
        "                     'Gas Turbine rate of revolutions (GTn) [rpm]':'Gas_turbine_rate_of_revolutions',\n",
        "                     'Gas Generator rate of revolutions (GGn) [rpm]':'Gas_generator_rate_of_revolutions',\n",
        "                     'Starboard Propeller Torque (Ts) [kN]':'Starboard_propeller_torque',\n",
        "                     'Port Propeller Torque (Tp) [kN]':'Port_propeller_torque',\n",
        "                     'HP Turbine exit temperature (T48) [C]':'HP_turbine_exit_temperature',\n",
        "                     'GT Compressor inlet air temperature (T1) [C]':'GT_compressor_inlet_air_temperature',\n",
        "                     'GT Compressor outlet air temperature (T2) [C]':'GT_compressor_outlet_air_temperature',\n",
        "                     'HP Turbine exit pressure (P48) [bar]':'HP_turbine_exit_pressure',\n",
        "                     'GT Compressor inlet air pressure (P1) [bar]':'GT_compressor_inlet_air_pressure',\n",
        "                     'GT Compressor outlet air pressure (P2) [bar]':'GT_compressor_outlet_air_pressure',\n",
        "                     'Gas Turbine exhaust gas pressure (Pexh) [bar]':'Gas_turbine_exhaust_gas_pressure',\n",
        "                     'Turbine Injecton Control (TIC) [%]':'Turbine_injection_control',\n",
        "                     'Fuel flow (mf) [kg/s]':'Fuel_flow',\n",
        "                     'GT Compressor decay state coefficient.':'GT_compressor_decay_state_coefficient',\n",
        "                     'GT Turbine decay state coefficient.':'GT_turbine_decay_state_coefficient'}, inplace=True)"
      ],
      "execution_count": null,
      "outputs": []
    },
    {
      "cell_type": "code",
      "metadata": {
        "colab": {
          "base_uri": "https://localhost:8080/"
        },
        "id": "DxQRJvwlw6UN",
        "outputId": "fce1f598-3058-48f5-8d54-c95628585c99"
      },
      "source": [
        "data.columns"
      ],
      "execution_count": null,
      "outputs": [
        {
          "output_type": "execute_result",
          "data": {
            "text/plain": [
              "Index(['Lever_position', 'Ship_speed', 'Gas_turbine_shaft_torque',\n",
              "       'Gas_turbine_rate_of_revolutions', 'Gas_generator_rate_of_revolutions',\n",
              "       'Starboard_propeller_torque', 'Port_propeller_torque',\n",
              "       'HP_turbine_exit_temperature', 'GT_compressor_inlet_air_temperature',\n",
              "       'GT_compressor_outlet_air_temperature', 'HP_turbine_exit_pressure',\n",
              "       'GT_compressor_inlet_air_pressure', 'GT_compressor_outlet_air_pressure',\n",
              "       'Gas_turbine_exhaust_gas_pressure', 'Turbine_injection_control',\n",
              "       'Fuel_flow', 'GT_compressor_decay_state_coefficient',\n",
              "       'GT_turbine_decay_state_coefficient'],\n",
              "      dtype='object')"
            ]
          },
          "metadata": {
            "tags": []
          },
          "execution_count": 8
        }
      ]
    },
    {
      "cell_type": "code",
      "metadata": {
        "colab": {
          "base_uri": "https://localhost:8080/"
        },
        "id": "vcuxVnr_w9cS",
        "outputId": "c1389237-7df6-4e7a-acde-5731d080084c"
      },
      "source": [
        "data.isna().sum()"
      ],
      "execution_count": null,
      "outputs": [
        {
          "output_type": "execute_result",
          "data": {
            "text/plain": [
              "Lever_position                           0\n",
              "Ship_speed                               0\n",
              "Gas_turbine_shaft_torque                 0\n",
              "Gas_turbine_rate_of_revolutions          0\n",
              "Gas_generator_rate_of_revolutions        0\n",
              "Starboard_propeller_torque               0\n",
              "Port_propeller_torque                    0\n",
              "HP_turbine_exit_temperature              0\n",
              "GT_compressor_inlet_air_temperature      0\n",
              "GT_compressor_outlet_air_temperature     0\n",
              "HP_turbine_exit_pressure                 0\n",
              "GT_compressor_inlet_air_pressure         0\n",
              "GT_compressor_outlet_air_pressure        0\n",
              "Gas_turbine_exhaust_gas_pressure         0\n",
              "Turbine_injection_control                0\n",
              "Fuel_flow                                0\n",
              "GT_compressor_decay_state_coefficient    0\n",
              "GT_turbine_decay_state_coefficient       0\n",
              "dtype: int64"
            ]
          },
          "metadata": {
            "tags": []
          },
          "execution_count": 9
        }
      ]
    },
    {
      "cell_type": "markdown",
      "metadata": {
        "id": "-LYXx_ST2P2g"
      },
      "source": [
        "#Data Visualization"
      ]
    },
    {
      "cell_type": "code",
      "metadata": {
        "id": "64bliukdpE0F",
        "colab": {
          "base_uri": "https://localhost:8080/",
          "height": 298
        },
        "outputId": "42a5e04a-c9d4-4ef2-9688-88a2989dc59e"
      },
      "source": [
        "sns.lineplot(x = 'Ship_speed', y = 'GT_compressor_decay_state_coefficient', data = data)"
      ],
      "execution_count": null,
      "outputs": [
        {
          "output_type": "execute_result",
          "data": {
            "text/plain": [
              "<matplotlib.axes._subplots.AxesSubplot at 0x7f76adf7aac8>"
            ]
          },
          "metadata": {
            "tags": []
          },
          "execution_count": 10
        },
        {
          "output_type": "display_data",
          "data": {
            "image/png": "[encoded data removed]",
            "text/plain": [
              "<Figure size 432x288 with 1 Axes>"
            ]
          },
          "metadata": {
            "tags": [],
            "needs_background": "light"
          }
        }
      ]
    },
    {
      "cell_type": "code",
      "metadata": {
        "id": "Y01wlm61pE2q",
        "colab": {
          "base_uri": "https://localhost:8080/",
          "height": 354
        },
        "outputId": "34eb7691-acfb-498c-b064-9ba4924de049"
      },
      "source": [
        "sns.distplot(data.GT_turbine_decay_state_coefficient)"
      ],
      "execution_count": null,
      "outputs": [
        {
          "output_type": "stream",
          "text": [
            "/usr/local/lib/python3.6/dist-packages/seaborn/distributions.py:2551: FutureWarning: `distplot` is a deprecated function and will be removed in a future version. Please adapt your code to use either `displot` (a figure-level function with similar flexibility) or `histplot` (an axes-level function for histograms).\n",
            "  warnings.warn(msg, FutureWarning)\n"
          ],
          "name": "stderr"
        },
        {
          "output_type": "execute_result",
          "data": {
            "text/plain": [
              "<matplotlib.axes._subplots.AxesSubplot at 0x7f7694c8f1d0>"
            ]
          },
          "metadata": {
            "tags": []
          },
          "execution_count": 11
        },
        {
          "output_type": "display_data",
          "data": {
            "image/png": "[encoded data removed]",
            "text/plain": [
              "<Figure size 432x288 with 1 Axes>"
            ]
          },
          "metadata": {
            "tags": [],
            "needs_background": "light"
          }
        }
      ]
    },
    {
      "cell_type": "code",
      "metadata": {
        "colab": {
          "base_uri": "https://localhost:8080/",
          "height": 298
        },
        "id": "GO4OZIuzDr-M",
        "outputId": "c2701ab1-8588-4eb2-cf14-1f4801e0e76b"
      },
      "source": [
        "sns.lineplot(x = 'Lever_position', y = 'GT_turbine_decay_state_coefficient', data = data)"
      ],
      "execution_count": null,
      "outputs": [
        {
          "output_type": "execute_result",
          "data": {
            "text/plain": [
              "<matplotlib.axes._subplots.AxesSubplot at 0x7f7693c5e978>"
            ]
          },
          "metadata": {
            "tags": []
          },
          "execution_count": 12
        },
        {
          "output_type": "display_data",
          "data": {
            "image/png": "[encoded data removed]",
            "text/plain": [
              "<Figure size 432x288 with 1 Axes>"
            ]
          },
          "metadata": {
            "tags": [],
            "needs_background": "light"
          }
        }
      ]
    },
    {
      "cell_type": "code",
      "metadata": {
        "id": "bpxZQwscpE5z",
        "colab": {
          "base_uri": "https://localhost:8080/",
          "height": 357
        },
        "outputId": "d0512f51-b029-417c-d488-f4a5ec97199b"
      },
      "source": [
        "sns.distplot(data.Gas_generator_rate_of_revolutions)"
      ],
      "execution_count": null,
      "outputs": [
        {
          "output_type": "stream",
          "text": [
            "/usr/local/lib/python3.6/dist-packages/seaborn/distributions.py:2551: FutureWarning: `distplot` is a deprecated function and will be removed in a future version. Please adapt your code to use either `displot` (a figure-level function with similar flexibility) or `histplot` (an axes-level function for histograms).\n",
            "  warnings.warn(msg, FutureWarning)\n"
          ],
          "name": "stderr"
        },
        {
          "output_type": "execute_result",
          "data": {
            "text/plain": [
              "<matplotlib.axes._subplots.AxesSubplot at 0x7f7693bc8dd8>"
            ]
          },
          "metadata": {
            "tags": []
          },
          "execution_count": 13
        },
        {
          "output_type": "display_data",
          "data": {
            "image/png": "[encoded data removed]",
            "text/plain": [
              "<Figure size 432x288 with 1 Axes>"
            ]
          },
          "metadata": {
            "tags": [],
            "needs_background": "light"
          }
        }
      ]
    },
    {
      "cell_type": "markdown",
      "metadata": {
        "id": "_y97UWeGob3W"
      },
      "source": [
        "Feature Selection\n",
        "\n",
        "\n"
      ]
    },
    {
      "cell_type": "code",
      "metadata": {
        "id": "fHjQGhvIokHF",
        "colab": {
          "base_uri": "https://localhost:8080/",
          "height": 294
        },
        "outputId": "2418d670-6da4-4031-ca25-2efa2740df90"
      },
      "source": [
        "data.describe()"
      ],
      "execution_count": null,
      "outputs": [
        {
          "output_type": "execute_result",
          "data": {
            "text/html": [
              "<div>\n",
              "<style scoped>\n",
              "    .dataframe tbody tr th:only-of-type {\n",
              "        vertical-align: middle;\n",
              "    }\n",
              "\n",
              "    .dataframe tbody tr th {\n",
              "        vertical-align: top;\n",
              "    }\n",
              "\n",
              "    .dataframe thead th {\n",
              "        text-align: right;\n",
              "    }\n",
              "</style>\n",
              "<table border=\"1\" class=\"dataframe\">\n",
              "  <thead>\n",
              "    <tr style=\"text-align: right;\">\n",
              "      <th></th>\n",
              "      <th>Lever_position</th>\n",
              "      <th>Ship_speed</th>\n",
              "      <th>Gas_turbine_shaft_torque</th>\n",
              "      <th>Gas_turbine_rate_of_revolutions</th>\n",
              "      <th>Gas_generator_rate_of_revolutions</th>\n",
              "      <th>Starboard_propeller_torque</th>\n",
              "      <th>Port_propeller_torque</th>\n",
              "      <th>HP_turbine_exit_temperature</th>\n",
              "      <th>GT_compressor_inlet_air_temperature</th>\n",
              "      <th>GT_compressor_outlet_air_temperature</th>\n",
              "      <th>HP_turbine_exit_pressure</th>\n",
              "      <th>GT_compressor_inlet_air_pressure</th>\n",
              "      <th>GT_compressor_outlet_air_pressure</th>\n",
              "      <th>Gas_turbine_exhaust_gas_pressure</th>\n",
              "      <th>Turbine_injection_control</th>\n",
              "      <th>Fuel_flow</th>\n",
              "      <th>GT_compressor_decay_state_coefficient</th>\n",
              "      <th>GT_turbine_decay_state_coefficient</th>\n",
              "    </tr>\n",
              "  </thead>\n",
              "  <tbody>\n",
              "    <tr>\n",
              "      <th>count</th>\n",
              "      <td>10000.000000</td>\n",
              "      <td>10000.000000</td>\n",
              "      <td>10000.000000</td>\n",
              "      <td>10000.000000</td>\n",
              "      <td>10000.000000</td>\n",
              "      <td>10000.000000</td>\n",
              "      <td>10000.000000</td>\n",
              "      <td>10000.000000</td>\n",
              "      <td>10000.0</td>\n",
              "      <td>10000.000000</td>\n",
              "      <td>10000.000000</td>\n",
              "      <td>1.000000e+04</td>\n",
              "      <td>10000.000000</td>\n",
              "      <td>10000.000000</td>\n",
              "      <td>10000.000000</td>\n",
              "      <td>10000.000000</td>\n",
              "      <td>10000.000000</td>\n",
              "      <td>10000.000000</td>\n",
              "    </tr>\n",
              "    <tr>\n",
              "      <th>mean</th>\n",
              "      <td>5.150075</td>\n",
              "      <td>14.951400</td>\n",
              "      <td>27100.647714</td>\n",
              "      <td>2131.151788</td>\n",
              "      <td>8194.182366</td>\n",
              "      <td>225.957785</td>\n",
              "      <td>225.957785</td>\n",
              "      <td>734.476178</td>\n",
              "      <td>288.0</td>\n",
              "      <td>645.748980</td>\n",
              "      <td>2.345732</td>\n",
              "      <td>9.980000e-01</td>\n",
              "      <td>12.262597</td>\n",
              "      <td>1.029402</td>\n",
              "      <td>33.480715</td>\n",
              "      <td>0.659100</td>\n",
              "      <td>0.975021</td>\n",
              "      <td>0.987455</td>\n",
              "    </tr>\n",
              "    <tr>\n",
              "      <th>std</th>\n",
              "      <td>2.624015</td>\n",
              "      <td>7.740467</td>\n",
              "      <td>22062.780307</td>\n",
              "      <td>772.211732</td>\n",
              "      <td>1090.569425</td>\n",
              "      <td>199.737886</td>\n",
              "      <td>199.737886</td>\n",
              "      <td>173.009157</td>\n",
              "      <td>0.0</td>\n",
              "      <td>72.483036</td>\n",
              "      <td>1.081038</td>\n",
              "      <td>2.236101e-13</td>\n",
              "      <td>5.320817</td>\n",
              "      <td>0.010353</td>\n",
              "      <td>25.721725</td>\n",
              "      <td>0.504791</td>\n",
              "      <td>0.014734</td>\n",
              "      <td>0.007510</td>\n",
              "    </tr>\n",
              "    <tr>\n",
              "      <th>min</th>\n",
              "      <td>1.138000</td>\n",
              "      <td>3.000000</td>\n",
              "      <td>253.547000</td>\n",
              "      <td>1307.675000</td>\n",
              "      <td>6589.002000</td>\n",
              "      <td>5.304000</td>\n",
              "      <td>5.304000</td>\n",
              "      <td>444.731000</td>\n",
              "      <td>288.0</td>\n",
              "      <td>540.999000</td>\n",
              "      <td>1.093000</td>\n",
              "      <td>9.980000e-01</td>\n",
              "      <td>5.828000</td>\n",
              "      <td>1.019000</td>\n",
              "      <td>0.000000</td>\n",
              "      <td>0.068000</td>\n",
              "      <td>0.950000</td>\n",
              "      <td>0.975000</td>\n",
              "    </tr>\n",
              "    <tr>\n",
              "      <th>25%</th>\n",
              "      <td>3.144000</td>\n",
              "      <td>9.000000</td>\n",
              "      <td>8375.791500</td>\n",
              "      <td>1386.758000</td>\n",
              "      <td>7056.520500</td>\n",
              "      <td>60.317000</td>\n",
              "      <td>60.317000</td>\n",
              "      <td>589.841000</td>\n",
              "      <td>288.0</td>\n",
              "      <td>577.980750</td>\n",
              "      <td>1.389000</td>\n",
              "      <td>9.980000e-01</td>\n",
              "      <td>7.445000</td>\n",
              "      <td>1.020000</td>\n",
              "      <td>13.534000</td>\n",
              "      <td>0.246000</td>\n",
              "      <td>0.962000</td>\n",
              "      <td>0.981000</td>\n",
              "    </tr>\n",
              "    <tr>\n",
              "      <th>50%</th>\n",
              "      <td>5.140000</td>\n",
              "      <td>15.000000</td>\n",
              "      <td>21630.133500</td>\n",
              "      <td>1924.325000</td>\n",
              "      <td>8480.527000</td>\n",
              "      <td>175.264000</td>\n",
              "      <td>175.264000</td>\n",
              "      <td>705.351000</td>\n",
              "      <td>288.0</td>\n",
              "      <td>636.800000</td>\n",
              "      <td>2.082000</td>\n",
              "      <td>9.980000e-01</td>\n",
              "      <td>11.086000</td>\n",
              "      <td>1.026000</td>\n",
              "      <td>25.249500</td>\n",
              "      <td>0.496000</td>\n",
              "      <td>0.975000</td>\n",
              "      <td>0.987000</td>\n",
              "    </tr>\n",
              "    <tr>\n",
              "      <th>75%</th>\n",
              "      <td>7.148000</td>\n",
              "      <td>21.000000</td>\n",
              "      <td>39000.710250</td>\n",
              "      <td>2678.078000</td>\n",
              "      <td>9132.132500</td>\n",
              "      <td>332.360000</td>\n",
              "      <td>332.360000</td>\n",
              "      <td>833.154750</td>\n",
              "      <td>288.0</td>\n",
              "      <td>693.656750</td>\n",
              "      <td>2.981000</td>\n",
              "      <td>9.980000e-01</td>\n",
              "      <td>15.649000</td>\n",
              "      <td>1.036000</td>\n",
              "      <td>44.500000</td>\n",
              "      <td>0.881000</td>\n",
              "      <td>0.988000</td>\n",
              "      <td>0.994000</td>\n",
              "    </tr>\n",
              "    <tr>\n",
              "      <th>max</th>\n",
              "      <td>9.300000</td>\n",
              "      <td>27.000000</td>\n",
              "      <td>72783.338000</td>\n",
              "      <td>3560.741000</td>\n",
              "      <td>9797.103000</td>\n",
              "      <td>645.249000</td>\n",
              "      <td>645.249000</td>\n",
              "      <td>1115.797000</td>\n",
              "      <td>288.0</td>\n",
              "      <td>789.094000</td>\n",
              "      <td>4.560000</td>\n",
              "      <td>9.980000e-01</td>\n",
              "      <td>23.140000</td>\n",
              "      <td>1.052000</td>\n",
              "      <td>92.556000</td>\n",
              "      <td>1.832000</td>\n",
              "      <td>1.000000</td>\n",
              "      <td>1.000000</td>\n",
              "    </tr>\n",
              "  </tbody>\n",
              "</table>\n",
              "</div>"
            ],
            "text/plain": [
              "       Lever_position  ...  GT_turbine_decay_state_coefficient\n",
              "count    10000.000000  ...                        10000.000000\n",
              "mean         5.150075  ...                            0.987455\n",
              "std          2.624015  ...                            0.007510\n",
              "min          1.138000  ...                            0.975000\n",
              "25%          3.144000  ...                            0.981000\n",
              "50%          5.140000  ...                            0.987000\n",
              "75%          7.148000  ...                            0.994000\n",
              "max          9.300000  ...                            1.000000\n",
              "\n",
              "[8 rows x 18 columns]"
            ]
          },
          "metadata": {
            "tags": []
          },
          "execution_count": 14
        }
      ]
    },
    {
      "cell_type": "code",
      "metadata": {
        "id": "IxYlCPaxqdlD",
        "colab": {
          "base_uri": "https://localhost:8080/",
          "height": 579
        },
        "outputId": "f095990e-3a4f-4ca7-bbce-30f73f60eaca"
      },
      "source": [
        "#Calculate pairwise correlation of column, default = 'pearson' standard correlation coefficient\n",
        "np.round(data.corr(method = 'pearson'),4) #correlation matrix"
      ],
      "execution_count": null,
      "outputs": [
        {
          "output_type": "execute_result",
          "data": {
            "text/html": [
              "<div>\n",
              "<style scoped>\n",
              "    .dataframe tbody tr th:only-of-type {\n",
              "        vertical-align: middle;\n",
              "    }\n",
              "\n",
              "    .dataframe tbody tr th {\n",
              "        vertical-align: top;\n",
              "    }\n",
              "\n",
              "    .dataframe thead th {\n",
              "        text-align: right;\n",
              "    }\n",
              "</style>\n",
              "<table border=\"1\" class=\"dataframe\">\n",
              "  <thead>\n",
              "    <tr style=\"text-align: right;\">\n",
              "      <th></th>\n",
              "      <th>Lever_position</th>\n",
              "      <th>Ship_speed</th>\n",
              "      <th>Gas_turbine_shaft_torque</th>\n",
              "      <th>Gas_turbine_rate_of_revolutions</th>\n",
              "      <th>Gas_generator_rate_of_revolutions</th>\n",
              "      <th>Starboard_propeller_torque</th>\n",
              "      <th>Port_propeller_torque</th>\n",
              "      <th>HP_turbine_exit_temperature</th>\n",
              "      <th>GT_compressor_inlet_air_temperature</th>\n",
              "      <th>GT_compressor_outlet_air_temperature</th>\n",
              "      <th>HP_turbine_exit_pressure</th>\n",
              "      <th>GT_compressor_inlet_air_pressure</th>\n",
              "      <th>GT_compressor_outlet_air_pressure</th>\n",
              "      <th>Gas_turbine_exhaust_gas_pressure</th>\n",
              "      <th>Turbine_injection_control</th>\n",
              "      <th>Fuel_flow</th>\n",
              "      <th>GT_compressor_decay_state_coefficient</th>\n",
              "      <th>GT_turbine_decay_state_coefficient</th>\n",
              "    </tr>\n",
              "  </thead>\n",
              "  <tbody>\n",
              "    <tr>\n",
              "      <th>Lever_position</th>\n",
              "      <td>1.0000</td>\n",
              "      <td>0.9999</td>\n",
              "      <td>0.9609</td>\n",
              "      <td>0.9617</td>\n",
              "      <td>0.9861</td>\n",
              "      <td>0.9592</td>\n",
              "      <td>0.9592</td>\n",
              "      <td>0.9607</td>\n",
              "      <td>NaN</td>\n",
              "      <td>0.9826</td>\n",
              "      <td>0.9629</td>\n",
              "      <td>-0.0</td>\n",
              "      <td>0.9689</td>\n",
              "      <td>0.9532</td>\n",
              "      <td>0.9126</td>\n",
              "      <td>0.9310</td>\n",
              "      <td>-0.0021</td>\n",
              "      <td>-0.0010</td>\n",
              "    </tr>\n",
              "    <tr>\n",
              "      <th>Ship_speed</th>\n",
              "      <td>0.9999</td>\n",
              "      <td>1.0000</td>\n",
              "      <td>0.9581</td>\n",
              "      <td>0.9601</td>\n",
              "      <td>0.9867</td>\n",
              "      <td>0.9564</td>\n",
              "      <td>0.9564</td>\n",
              "      <td>0.9583</td>\n",
              "      <td>NaN</td>\n",
              "      <td>0.9810</td>\n",
              "      <td>0.9604</td>\n",
              "      <td>0.0</td>\n",
              "      <td>0.9668</td>\n",
              "      <td>0.9506</td>\n",
              "      <td>0.9090</td>\n",
              "      <td>0.9274</td>\n",
              "      <td>-0.0020</td>\n",
              "      <td>-0.0010</td>\n",
              "    </tr>\n",
              "    <tr>\n",
              "      <th>Gas_turbine_shaft_torque</th>\n",
              "      <td>0.9609</td>\n",
              "      <td>0.9581</td>\n",
              "      <td>1.0000</td>\n",
              "      <td>0.9897</td>\n",
              "      <td>0.9332</td>\n",
              "      <td>0.9992</td>\n",
              "      <td>0.9992</td>\n",
              "      <td>0.9911</td>\n",
              "      <td>NaN</td>\n",
              "      <td>0.9903</td>\n",
              "      <td>0.9989</td>\n",
              "      <td>-0.0</td>\n",
              "      <td>0.9976</td>\n",
              "      <td>0.9960</td>\n",
              "      <td>0.9774</td>\n",
              "      <td>0.9950</td>\n",
              "      <td>0.0007</td>\n",
              "      <td>-0.0005</td>\n",
              "    </tr>\n",
              "    <tr>\n",
              "      <th>Gas_turbine_rate_of_revolutions</th>\n",
              "      <td>0.9617</td>\n",
              "      <td>0.9601</td>\n",
              "      <td>0.9897</td>\n",
              "      <td>1.0000</td>\n",
              "      <td>0.9429</td>\n",
              "      <td>0.9886</td>\n",
              "      <td>0.9886</td>\n",
              "      <td>0.9794</td>\n",
              "      <td>NaN</td>\n",
              "      <td>0.9892</td>\n",
              "      <td>0.9951</td>\n",
              "      <td>0.0</td>\n",
              "      <td>0.9960</td>\n",
              "      <td>0.9940</td>\n",
              "      <td>0.9619</td>\n",
              "      <td>0.9801</td>\n",
              "      <td>0.0002</td>\n",
              "      <td>-0.0007</td>\n",
              "    </tr>\n",
              "    <tr>\n",
              "      <th>Gas_generator_rate_of_revolutions</th>\n",
              "      <td>0.9861</td>\n",
              "      <td>0.9867</td>\n",
              "      <td>0.9332</td>\n",
              "      <td>0.9429</td>\n",
              "      <td>1.0000</td>\n",
              "      <td>0.9299</td>\n",
              "      <td>0.9299</td>\n",
              "      <td>0.9395</td>\n",
              "      <td>NaN</td>\n",
              "      <td>0.9667</td>\n",
              "      <td>0.9376</td>\n",
              "      <td>0.0</td>\n",
              "      <td>0.9460</td>\n",
              "      <td>0.9244</td>\n",
              "      <td>0.8786</td>\n",
              "      <td>0.8969</td>\n",
              "      <td>-0.0209</td>\n",
              "      <td>0.0087</td>\n",
              "    </tr>\n",
              "    <tr>\n",
              "      <th>Starboard_propeller_torque</th>\n",
              "      <td>0.9592</td>\n",
              "      <td>0.9564</td>\n",
              "      <td>0.9992</td>\n",
              "      <td>0.9886</td>\n",
              "      <td>0.9299</td>\n",
              "      <td>1.0000</td>\n",
              "      <td>1.0000</td>\n",
              "      <td>0.9859</td>\n",
              "      <td>NaN</td>\n",
              "      <td>0.9875</td>\n",
              "      <td>0.9980</td>\n",
              "      <td>-0.0</td>\n",
              "      <td>0.9962</td>\n",
              "      <td>0.9962</td>\n",
              "      <td>0.9770</td>\n",
              "      <td>0.9943</td>\n",
              "      <td>-0.0016</td>\n",
              "      <td>-0.0007</td>\n",
              "    </tr>\n",
              "    <tr>\n",
              "      <th>Port_propeller_torque</th>\n",
              "      <td>0.9592</td>\n",
              "      <td>0.9564</td>\n",
              "      <td>0.9992</td>\n",
              "      <td>0.9886</td>\n",
              "      <td>0.9299</td>\n",
              "      <td>1.0000</td>\n",
              "      <td>1.0000</td>\n",
              "      <td>0.9859</td>\n",
              "      <td>NaN</td>\n",
              "      <td>0.9875</td>\n",
              "      <td>0.9980</td>\n",
              "      <td>-0.0</td>\n",
              "      <td>0.9962</td>\n",
              "      <td>0.9962</td>\n",
              "      <td>0.9770</td>\n",
              "      <td>0.9943</td>\n",
              "      <td>-0.0016</td>\n",
              "      <td>-0.0007</td>\n",
              "    </tr>\n",
              "    <tr>\n",
              "      <th>HP_turbine_exit_temperature</th>\n",
              "      <td>0.9607</td>\n",
              "      <td>0.9583</td>\n",
              "      <td>0.9911</td>\n",
              "      <td>0.9794</td>\n",
              "      <td>0.9395</td>\n",
              "      <td>0.9859</td>\n",
              "      <td>0.9859</td>\n",
              "      <td>1.0000</td>\n",
              "      <td>NaN</td>\n",
              "      <td>0.9922</td>\n",
              "      <td>0.9893</td>\n",
              "      <td>-0.0</td>\n",
              "      <td>0.9904</td>\n",
              "      <td>0.9800</td>\n",
              "      <td>0.9693</td>\n",
              "      <td>0.9863</td>\n",
              "      <td>-0.0417</td>\n",
              "      <td>-0.0399</td>\n",
              "    </tr>\n",
              "    <tr>\n",
              "      <th>GT_compressor_inlet_air_temperature</th>\n",
              "      <td>NaN</td>\n",
              "      <td>NaN</td>\n",
              "      <td>NaN</td>\n",
              "      <td>NaN</td>\n",
              "      <td>NaN</td>\n",
              "      <td>NaN</td>\n",
              "      <td>NaN</td>\n",
              "      <td>NaN</td>\n",
              "      <td>NaN</td>\n",
              "      <td>NaN</td>\n",
              "      <td>NaN</td>\n",
              "      <td>NaN</td>\n",
              "      <td>NaN</td>\n",
              "      <td>NaN</td>\n",
              "      <td>NaN</td>\n",
              "      <td>NaN</td>\n",
              "      <td>NaN</td>\n",
              "      <td>NaN</td>\n",
              "    </tr>\n",
              "    <tr>\n",
              "      <th>GT_compressor_outlet_air_temperature</th>\n",
              "      <td>0.9826</td>\n",
              "      <td>0.9810</td>\n",
              "      <td>0.9903</td>\n",
              "      <td>0.9892</td>\n",
              "      <td>0.9667</td>\n",
              "      <td>0.9875</td>\n",
              "      <td>0.9875</td>\n",
              "      <td>0.9922</td>\n",
              "      <td>NaN</td>\n",
              "      <td>1.0000</td>\n",
              "      <td>0.9917</td>\n",
              "      <td>0.0</td>\n",
              "      <td>0.9944</td>\n",
              "      <td>0.9835</td>\n",
              "      <td>0.9582</td>\n",
              "      <td>0.9764</td>\n",
              "      <td>-0.0491</td>\n",
              "      <td>-0.0181</td>\n",
              "    </tr>\n",
              "    <tr>\n",
              "      <th>HP_turbine_exit_pressure</th>\n",
              "      <td>0.9629</td>\n",
              "      <td>0.9604</td>\n",
              "      <td>0.9989</td>\n",
              "      <td>0.9951</td>\n",
              "      <td>0.9376</td>\n",
              "      <td>0.9980</td>\n",
              "      <td>0.9980</td>\n",
              "      <td>0.9893</td>\n",
              "      <td>NaN</td>\n",
              "      <td>0.9917</td>\n",
              "      <td>1.0000</td>\n",
              "      <td>0.0</td>\n",
              "      <td>0.9994</td>\n",
              "      <td>0.9979</td>\n",
              "      <td>0.9753</td>\n",
              "      <td>0.9927</td>\n",
              "      <td>0.0063</td>\n",
              "      <td>-0.0035</td>\n",
              "    </tr>\n",
              "    <tr>\n",
              "      <th>GT_compressor_inlet_air_pressure</th>\n",
              "      <td>-0.0000</td>\n",
              "      <td>0.0000</td>\n",
              "      <td>-0.0000</td>\n",
              "      <td>0.0000</td>\n",
              "      <td>0.0000</td>\n",
              "      <td>-0.0000</td>\n",
              "      <td>-0.0000</td>\n",
              "      <td>-0.0000</td>\n",
              "      <td>NaN</td>\n",
              "      <td>0.0000</td>\n",
              "      <td>0.0000</td>\n",
              "      <td>1.0</td>\n",
              "      <td>-0.0000</td>\n",
              "      <td>-0.0000</td>\n",
              "      <td>-0.0000</td>\n",
              "      <td>-0.0000</td>\n",
              "      <td>0.0000</td>\n",
              "      <td>0.0000</td>\n",
              "    </tr>\n",
              "    <tr>\n",
              "      <th>GT_compressor_outlet_air_pressure</th>\n",
              "      <td>0.9689</td>\n",
              "      <td>0.9668</td>\n",
              "      <td>0.9976</td>\n",
              "      <td>0.9960</td>\n",
              "      <td>0.9460</td>\n",
              "      <td>0.9962</td>\n",
              "      <td>0.9962</td>\n",
              "      <td>0.9904</td>\n",
              "      <td>NaN</td>\n",
              "      <td>0.9944</td>\n",
              "      <td>0.9994</td>\n",
              "      <td>-0.0</td>\n",
              "      <td>1.0000</td>\n",
              "      <td>0.9963</td>\n",
              "      <td>0.9717</td>\n",
              "      <td>0.9892</td>\n",
              "      <td>0.0065</td>\n",
              "      <td>-0.0192</td>\n",
              "    </tr>\n",
              "    <tr>\n",
              "      <th>Gas_turbine_exhaust_gas_pressure</th>\n",
              "      <td>0.9532</td>\n",
              "      <td>0.9506</td>\n",
              "      <td>0.9960</td>\n",
              "      <td>0.9940</td>\n",
              "      <td>0.9244</td>\n",
              "      <td>0.9962</td>\n",
              "      <td>0.9962</td>\n",
              "      <td>0.9800</td>\n",
              "      <td>NaN</td>\n",
              "      <td>0.9835</td>\n",
              "      <td>0.9979</td>\n",
              "      <td>-0.0</td>\n",
              "      <td>0.9963</td>\n",
              "      <td>1.0000</td>\n",
              "      <td>0.9738</td>\n",
              "      <td>0.9909</td>\n",
              "      <td>0.0334</td>\n",
              "      <td>0.0113</td>\n",
              "    </tr>\n",
              "    <tr>\n",
              "      <th>Turbine_injection_control</th>\n",
              "      <td>0.9126</td>\n",
              "      <td>0.9090</td>\n",
              "      <td>0.9774</td>\n",
              "      <td>0.9619</td>\n",
              "      <td>0.8786</td>\n",
              "      <td>0.9770</td>\n",
              "      <td>0.9770</td>\n",
              "      <td>0.9693</td>\n",
              "      <td>NaN</td>\n",
              "      <td>0.9582</td>\n",
              "      <td>0.9753</td>\n",
              "      <td>-0.0</td>\n",
              "      <td>0.9717</td>\n",
              "      <td>0.9738</td>\n",
              "      <td>1.0000</td>\n",
              "      <td>0.9853</td>\n",
              "      <td>-0.0341</td>\n",
              "      <td>-0.0192</td>\n",
              "    </tr>\n",
              "    <tr>\n",
              "      <th>Fuel_flow</th>\n",
              "      <td>0.9310</td>\n",
              "      <td>0.9274</td>\n",
              "      <td>0.9950</td>\n",
              "      <td>0.9801</td>\n",
              "      <td>0.8969</td>\n",
              "      <td>0.9943</td>\n",
              "      <td>0.9943</td>\n",
              "      <td>0.9863</td>\n",
              "      <td>NaN</td>\n",
              "      <td>0.9764</td>\n",
              "      <td>0.9927</td>\n",
              "      <td>-0.0</td>\n",
              "      <td>0.9892</td>\n",
              "      <td>0.9909</td>\n",
              "      <td>0.9853</td>\n",
              "      <td>1.0000</td>\n",
              "      <td>-0.0158</td>\n",
              "      <td>-0.0182</td>\n",
              "    </tr>\n",
              "    <tr>\n",
              "      <th>GT_compressor_decay_state_coefficient</th>\n",
              "      <td>-0.0021</td>\n",
              "      <td>-0.0020</td>\n",
              "      <td>0.0007</td>\n",
              "      <td>0.0002</td>\n",
              "      <td>-0.0209</td>\n",
              "      <td>-0.0016</td>\n",
              "      <td>-0.0016</td>\n",
              "      <td>-0.0417</td>\n",
              "      <td>NaN</td>\n",
              "      <td>-0.0491</td>\n",
              "      <td>0.0063</td>\n",
              "      <td>0.0</td>\n",
              "      <td>0.0065</td>\n",
              "      <td>0.0334</td>\n",
              "      <td>-0.0341</td>\n",
              "      <td>-0.0158</td>\n",
              "      <td>1.0000</td>\n",
              "      <td>-0.0010</td>\n",
              "    </tr>\n",
              "    <tr>\n",
              "      <th>GT_turbine_decay_state_coefficient</th>\n",
              "      <td>-0.0010</td>\n",
              "      <td>-0.0010</td>\n",
              "      <td>-0.0005</td>\n",
              "      <td>-0.0007</td>\n",
              "      <td>0.0087</td>\n",
              "      <td>-0.0007</td>\n",
              "      <td>-0.0007</td>\n",
              "      <td>-0.0399</td>\n",
              "      <td>NaN</td>\n",
              "      <td>-0.0181</td>\n",
              "      <td>-0.0035</td>\n",
              "      <td>0.0</td>\n",
              "      <td>-0.0192</td>\n",
              "      <td>0.0113</td>\n",
              "      <td>-0.0192</td>\n",
              "      <td>-0.0182</td>\n",
              "      <td>-0.0010</td>\n",
              "      <td>1.0000</td>\n",
              "    </tr>\n",
              "  </tbody>\n",
              "</table>\n",
              "</div>"
            ],
            "text/plain": [
              "                                       Lever_position  ...  GT_turbine_decay_state_coefficient\n",
              "Lever_position                                 1.0000  ...                             -0.0010\n",
              "Ship_speed                                     0.9999  ...                             -0.0010\n",
              "Gas_turbine_shaft_torque                       0.9609  ...                             -0.0005\n",
              "Gas_turbine_rate_of_revolutions                0.9617  ...                             -0.0007\n",
              "Gas_generator_rate_of_revolutions              0.9861  ...                              0.0087\n",
              "Starboard_propeller_torque                     0.9592  ...                             -0.0007\n",
              "Port_propeller_torque                          0.9592  ...                             -0.0007\n",
              "HP_turbine_exit_temperature                    0.9607  ...                             -0.0399\n",
              "GT_compressor_inlet_air_temperature               NaN  ...                                 NaN\n",
              "GT_compressor_outlet_air_temperature           0.9826  ...                             -0.0181\n",
              "HP_turbine_exit_pressure                       0.9629  ...                             -0.0035\n",
              "GT_compressor_inlet_air_pressure              -0.0000  ...                              0.0000\n",
              "GT_compressor_outlet_air_pressure              0.9689  ...                             -0.0192\n",
              "Gas_turbine_exhaust_gas_pressure               0.9532  ...                              0.0113\n",
              "Turbine_injection_control                      0.9126  ...                             -0.0192\n",
              "Fuel_flow                                      0.9310  ...                             -0.0182\n",
              "GT_compressor_decay_state_coefficient         -0.0021  ...                             -0.0010\n",
              "GT_turbine_decay_state_coefficient            -0.0010  ...                              1.0000\n",
              "\n",
              "[18 rows x 18 columns]"
            ]
          },
          "metadata": {
            "tags": []
          },
          "execution_count": 15
        }
      ]
    },
    {
      "cell_type": "code",
      "metadata": {
        "id": "ZrPpf4iiot7Y"
      },
      "source": [
        "#In above correlation matrix, we see GT_compressor_inlet_air_temperature, GT_compressor_inlet_air_pressure = 0\n",
        "data = data.drop('GT_compressor_inlet_air_temperature', axis=1)\n",
        "data = data.drop('GT_compressor_inlet_air_pressure',axis=1)"
      ],
      "execution_count": null,
      "outputs": []
    },
    {
      "cell_type": "code",
      "metadata": {
        "id": "9bFrNGE1bE8k",
        "colab": {
          "base_uri": "https://localhost:8080/",
          "height": 406
        },
        "outputId": "4193bf86-fb5f-481e-d567-c08595409cd0"
      },
      "source": [
        "#Split data into X(features),Y(results)\n",
        "X = data[['Lever_position', 'Ship_speed', 'Gas_turbine_shaft_torque',\n",
        "          'Gas_turbine_rate_of_revolutions', 'Gas_generator_rate_of_revolutions',\n",
        "          'Starboard_propeller_torque', 'Port_propeller_torque',\n",
        "          'HP_turbine_exit_temperature', 'GT_compressor_outlet_air_temperature', \n",
        "          'HP_turbine_exit_pressure', 'GT_compressor_outlet_air_pressure',\n",
        "          'Gas_turbine_exhaust_gas_pressure', 'Turbine_injection_control',\n",
        "          'Fuel_flow', ]]\n",
        "Y1=data['GT_compressor_decay_state_coefficient']\n",
        "Y2=data['GT_turbine_decay_state_coefficient']\n",
        "Y = pd.DataFrame([Y1,Y2]).transpose()\n",
        "Y"
      ],
      "execution_count": null,
      "outputs": [
        {
          "output_type": "execute_result",
          "data": {
            "text/html": [
              "<div>\n",
              "<style scoped>\n",
              "    .dataframe tbody tr th:only-of-type {\n",
              "        vertical-align: middle;\n",
              "    }\n",
              "\n",
              "    .dataframe tbody tr th {\n",
              "        vertical-align: top;\n",
              "    }\n",
              "\n",
              "    .dataframe thead th {\n",
              "        text-align: right;\n",
              "    }\n",
              "</style>\n",
              "<table border=\"1\" class=\"dataframe\">\n",
              "  <thead>\n",
              "    <tr style=\"text-align: right;\">\n",
              "      <th></th>\n",
              "      <th>GT_compressor_decay_state_coefficient</th>\n",
              "      <th>GT_turbine_decay_state_coefficient</th>\n",
              "    </tr>\n",
              "  </thead>\n",
              "  <tbody>\n",
              "    <tr>\n",
              "      <th>0</th>\n",
              "      <td>0.973</td>\n",
              "      <td>0.978</td>\n",
              "    </tr>\n",
              "    <tr>\n",
              "      <th>1</th>\n",
              "      <td>0.995</td>\n",
              "      <td>0.975</td>\n",
              "    </tr>\n",
              "    <tr>\n",
              "      <th>2</th>\n",
              "      <td>0.980</td>\n",
              "      <td>0.978</td>\n",
              "    </tr>\n",
              "    <tr>\n",
              "      <th>3</th>\n",
              "      <td>0.984</td>\n",
              "      <td>1.000</td>\n",
              "    </tr>\n",
              "    <tr>\n",
              "      <th>4</th>\n",
              "      <td>0.998</td>\n",
              "      <td>0.980</td>\n",
              "    </tr>\n",
              "    <tr>\n",
              "      <th>...</th>\n",
              "      <td>...</td>\n",
              "      <td>...</td>\n",
              "    </tr>\n",
              "    <tr>\n",
              "      <th>9995</th>\n",
              "      <td>0.999</td>\n",
              "      <td>0.988</td>\n",
              "    </tr>\n",
              "    <tr>\n",
              "      <th>9996</th>\n",
              "      <td>0.971</td>\n",
              "      <td>1.000</td>\n",
              "    </tr>\n",
              "    <tr>\n",
              "      <th>9997</th>\n",
              "      <td>0.953</td>\n",
              "      <td>0.996</td>\n",
              "    </tr>\n",
              "    <tr>\n",
              "      <th>9998</th>\n",
              "      <td>0.982</td>\n",
              "      <td>0.975</td>\n",
              "    </tr>\n",
              "    <tr>\n",
              "      <th>9999</th>\n",
              "      <td>0.981</td>\n",
              "      <td>0.977</td>\n",
              "    </tr>\n",
              "  </tbody>\n",
              "</table>\n",
              "<p>10000 rows × 2 columns</p>\n",
              "</div>"
            ],
            "text/plain": [
              "      GT_compressor_decay_state_coefficient  GT_turbine_decay_state_coefficient\n",
              "0                                     0.973                               0.978\n",
              "1                                     0.995                               0.975\n",
              "2                                     0.980                               0.978\n",
              "3                                     0.984                               1.000\n",
              "4                                     0.998                               0.980\n",
              "...                                     ...                                 ...\n",
              "9995                                  0.999                               0.988\n",
              "9996                                  0.971                               1.000\n",
              "9997                                  0.953                               0.996\n",
              "9998                                  0.982                               0.975\n",
              "9999                                  0.981                               0.977\n",
              "\n",
              "[10000 rows x 2 columns]"
            ]
          },
          "metadata": {
            "tags": []
          },
          "execution_count": 17
        }
      ]
    },
    {
      "cell_type": "code",
      "metadata": {
        "id": "_RbxELibgOCl",
        "colab": {
          "base_uri": "https://localhost:8080/",
          "height": 426
        },
        "outputId": "f2faca5a-1fde-49fb-cfcf-73b794f746fc"
      },
      "source": [
        "scaler = StandardScaler()\n",
        "var = ['Lever_position', 'Ship_speed', 'Gas_turbine_shaft_torque',\n",
        "       'Gas_turbine_rate_of_revolutions', 'Gas_generator_rate_of_revolutions',\n",
        "       'Starboard_propeller_torque', 'Port_propeller_torque',\n",
        "       'HP_turbine_exit_temperature', 'GT_compressor_outlet_air_temperature',\n",
        "       'HP_turbine_exit_pressure', 'GT_compressor_outlet_air_pressure',\n",
        "       'Gas_turbine_exhaust_gas_pressure', 'Turbine_injection_control',\n",
        "       'Fuel_flow', 'GT_compressor_decay_state_coefficient',\n",
        "       'GT_turbine_decay_state_coefficient']\n",
        "data1 = data\n",
        "data1[var] = scaler.fit_transform(data1[var])\n",
        "data1"
      ],
      "execution_count": null,
      "outputs": [
        {
          "output_type": "execute_result",
          "data": {
            "text/html": [
              "<div>\n",
              "<style scoped>\n",
              "    .dataframe tbody tr th:only-of-type {\n",
              "        vertical-align: middle;\n",
              "    }\n",
              "\n",
              "    .dataframe tbody tr th {\n",
              "        vertical-align: top;\n",
              "    }\n",
              "\n",
              "    .dataframe thead th {\n",
              "        text-align: right;\n",
              "    }\n",
              "</style>\n",
              "<table border=\"1\" class=\"dataframe\">\n",
              "  <thead>\n",
              "    <tr style=\"text-align: right;\">\n",
              "      <th></th>\n",
              "      <th>Lever_position</th>\n",
              "      <th>Ship_speed</th>\n",
              "      <th>Gas_turbine_shaft_torque</th>\n",
              "      <th>Gas_turbine_rate_of_revolutions</th>\n",
              "      <th>Gas_generator_rate_of_revolutions</th>\n",
              "      <th>Starboard_propeller_torque</th>\n",
              "      <th>Port_propeller_torque</th>\n",
              "      <th>HP_turbine_exit_temperature</th>\n",
              "      <th>GT_compressor_outlet_air_temperature</th>\n",
              "      <th>HP_turbine_exit_pressure</th>\n",
              "      <th>GT_compressor_outlet_air_pressure</th>\n",
              "      <th>Gas_turbine_exhaust_gas_pressure</th>\n",
              "      <th>Turbine_injection_control</th>\n",
              "      <th>Fuel_flow</th>\n",
              "      <th>GT_compressor_decay_state_coefficient</th>\n",
              "      <th>GT_turbine_decay_state_coefficient</th>\n",
              "    </tr>\n",
              "  </thead>\n",
              "  <tbody>\n",
              "    <tr>\n",
              "      <th>0</th>\n",
              "      <td>1.581596</td>\n",
              "      <td>1.556651</td>\n",
              "      <td>2.069723</td>\n",
              "      <td>1.850934</td>\n",
              "      <td>1.430177</td>\n",
              "      <td>2.097094</td>\n",
              "      <td>2.097094</td>\n",
              "      <td>2.035294</td>\n",
              "      <td>1.856458</td>\n",
              "      <td>2.014154</td>\n",
              "      <td>1.995358</td>\n",
              "      <td>1.989602</td>\n",
              "      <td>2.214359</td>\n",
              "      <td>2.240446</td>\n",
              "      <td>-0.137159</td>\n",
              "      <td>-1.259128</td>\n",
              "    </tr>\n",
              "    <tr>\n",
              "      <th>1</th>\n",
              "      <td>0.390614</td>\n",
              "      <td>0.393872</td>\n",
              "      <td>0.120567</td>\n",
              "      <td>0.227505</td>\n",
              "      <td>0.537205</td>\n",
              "      <td>0.100403</td>\n",
              "      <td>0.100403</td>\n",
              "      <td>0.245345</td>\n",
              "      <td>0.272657</td>\n",
              "      <td>0.159362</td>\n",
              "      <td>0.220918</td>\n",
              "      <td>0.057762</td>\n",
              "      <td>0.043362</td>\n",
              "      <td>0.051310</td>\n",
              "      <td>1.356065</td>\n",
              "      <td>-1.658640</td>\n",
              "    </tr>\n",
              "    <tr>\n",
              "      <th>2</th>\n",
              "      <td>-0.764544</td>\n",
              "      <td>-0.768907</td>\n",
              "      <td>-0.848751</td>\n",
              "      <td>-0.964049</td>\n",
              "      <td>-1.047727</td>\n",
              "      <td>-0.829327</td>\n",
              "      <td>-0.829327</td>\n",
              "      <td>-0.836484</td>\n",
              "      <td>-0.899041</td>\n",
              "      <td>-0.882282</td>\n",
              "      <td>-0.882727</td>\n",
              "      <td>-0.908158</td>\n",
              "      <td>-0.816616</td>\n",
              "      <td>-0.816420</td>\n",
              "      <td>0.337958</td>\n",
              "      <td>-1.259128</td>\n",
              "    </tr>\n",
              "    <tr>\n",
              "      <th>3</th>\n",
              "      <td>-0.764544</td>\n",
              "      <td>-0.768907</td>\n",
              "      <td>-0.848669</td>\n",
              "      <td>-0.964037</td>\n",
              "      <td>-1.004767</td>\n",
              "      <td>-0.829222</td>\n",
              "      <td>-0.829222</td>\n",
              "      <td>-0.946964</td>\n",
              "      <td>-0.954533</td>\n",
              "      <td>-0.884132</td>\n",
              "      <td>-0.912236</td>\n",
              "      <td>-0.811566</td>\n",
              "      <td>-0.847681</td>\n",
              "      <td>-0.848118</td>\n",
              "      <td>0.609453</td>\n",
              "      <td>1.670625</td>\n",
              "    </tr>\n",
              "    <tr>\n",
              "      <th>4</th>\n",
              "      <td>0.390614</td>\n",
              "      <td>0.393872</td>\n",
              "      <td>0.120591</td>\n",
              "      <td>0.227505</td>\n",
              "      <td>0.539050</td>\n",
              "      <td>0.100453</td>\n",
              "      <td>0.100453</td>\n",
              "      <td>0.204501</td>\n",
              "      <td>0.247422</td>\n",
              "      <td>0.159362</td>\n",
              "      <td>0.208889</td>\n",
              "      <td>0.154354</td>\n",
              "      <td>0.026177</td>\n",
              "      <td>0.033480</td>\n",
              "      <td>1.559687</td>\n",
              "      <td>-0.992787</td>\n",
              "    </tr>\n",
              "    <tr>\n",
              "      <th>...</th>\n",
              "      <td>...</td>\n",
              "      <td>...</td>\n",
              "      <td>...</td>\n",
              "      <td>...</td>\n",
              "      <td>...</td>\n",
              "      <td>...</td>\n",
              "      <td>...</td>\n",
              "      <td>...</td>\n",
              "      <td>...</td>\n",
              "      <td>...</td>\n",
              "      <td>...</td>\n",
              "      <td>...</td>\n",
              "      <td>...</td>\n",
              "      <td>...</td>\n",
              "      <td>...</td>\n",
              "      <td>...</td>\n",
              "    </tr>\n",
              "    <tr>\n",
              "      <th>9995</th>\n",
              "      <td>-1.167001</td>\n",
              "      <td>-1.156500</td>\n",
              "      <td>-0.962840</td>\n",
              "      <td>-1.012893</td>\n",
              "      <td>-1.336900</td>\n",
              "      <td>-1.015315</td>\n",
              "      <td>-1.015315</td>\n",
              "      <td>-0.887045</td>\n",
              "      <td>-1.115172</td>\n",
              "      <td>-0.972940</td>\n",
              "      <td>-0.990799</td>\n",
              "      <td>-1.004750</td>\n",
              "      <td>-0.462578</td>\n",
              "      <td>-0.820382</td>\n",
              "      <td>1.627561</td>\n",
              "      <td>0.072578</td>\n",
              "    </tr>\n",
              "    <tr>\n",
              "      <th>9996</th>\n",
              "      <td>-0.003840</td>\n",
              "      <td>0.006279</td>\n",
              "      <td>-0.247801</td>\n",
              "      <td>-0.267819</td>\n",
              "      <td>0.277828</td>\n",
              "      <td>-0.253694</td>\n",
              "      <td>-0.253694</td>\n",
              "      <td>-0.221064</td>\n",
              "      <td>-0.135969</td>\n",
              "      <td>-0.247675</td>\n",
              "      <td>-0.247267</td>\n",
              "      <td>-0.328606</td>\n",
              "      <td>-0.349905</td>\n",
              "      <td>-0.344914</td>\n",
              "      <td>-0.272907</td>\n",
              "      <td>1.670625</td>\n",
              "    </tr>\n",
              "    <tr>\n",
              "      <th>9997</th>\n",
              "      <td>1.164657</td>\n",
              "      <td>1.169058</td>\n",
              "      <td>1.083062</td>\n",
              "      <td>1.238587</td>\n",
              "      <td>1.036458</td>\n",
              "      <td>1.061911</td>\n",
              "      <td>1.061911</td>\n",
              "      <td>1.121701</td>\n",
              "      <td>1.265104</td>\n",
              "      <td>1.123299</td>\n",
              "      <td>1.115938</td>\n",
              "      <td>1.120274</td>\n",
              "      <td>1.042956</td>\n",
              "      <td>1.059700</td>\n",
              "      <td>-1.494637</td>\n",
              "      <td>1.137943</td>\n",
              "    </tr>\n",
              "    <tr>\n",
              "      <th>9998</th>\n",
              "      <td>0.390614</td>\n",
              "      <td>0.393872</td>\n",
              "      <td>0.120591</td>\n",
              "      <td>0.227537</td>\n",
              "      <td>0.549392</td>\n",
              "      <td>0.100212</td>\n",
              "      <td>0.100212</td>\n",
              "      <td>0.283316</td>\n",
              "      <td>0.314697</td>\n",
              "      <td>0.154737</td>\n",
              "      <td>0.216031</td>\n",
              "      <td>0.057762</td>\n",
              "      <td>0.055920</td>\n",
              "      <td>0.063197</td>\n",
              "      <td>0.473705</td>\n",
              "      <td>-1.658640</td>\n",
              "    </tr>\n",
              "    <tr>\n",
              "      <th>9999</th>\n",
              "      <td>1.164657</td>\n",
              "      <td>1.169058</td>\n",
              "      <td>1.082867</td>\n",
              "      <td>1.238294</td>\n",
              "      <td>1.014763</td>\n",
              "      <td>1.061811</td>\n",
              "      <td>1.061811</td>\n",
              "      <td>1.126123</td>\n",
              "      <td>1.184626</td>\n",
              "      <td>1.157527</td>\n",
              "      <td>1.208785</td>\n",
              "      <td>1.120274</td>\n",
              "      <td>1.071260</td>\n",
              "      <td>1.087435</td>\n",
              "      <td>0.405831</td>\n",
              "      <td>-1.392298</td>\n",
              "    </tr>\n",
              "  </tbody>\n",
              "</table>\n",
              "<p>10000 rows × 16 columns</p>\n",
              "</div>"
            ],
            "text/plain": [
              "      Lever_position  ...  GT_turbine_decay_state_coefficient\n",
              "0           1.581596  ...                           -1.259128\n",
              "1           0.390614  ...                           -1.658640\n",
              "2          -0.764544  ...                           -1.259128\n",
              "3          -0.764544  ...                            1.670625\n",
              "4           0.390614  ...                           -0.992787\n",
              "...              ...  ...                                 ...\n",
              "9995       -1.167001  ...                            0.072578\n",
              "9996       -0.003840  ...                            1.670625\n",
              "9997        1.164657  ...                            1.137943\n",
              "9998        0.390614  ...                           -1.658640\n",
              "9999        1.164657  ...                           -1.392298\n",
              "\n",
              "[10000 rows x 16 columns]"
            ]
          },
          "metadata": {
            "tags": []
          },
          "execution_count": 18
        }
      ]
    },
    {
      "cell_type": "code",
      "metadata": {
        "id": "shKsjQxcqLz7",
        "colab": {
          "base_uri": "https://localhost:8080/",
          "height": 714
        },
        "outputId": "0a2eb1d7-edf0-4ac1-e9d3-451996a7e78b"
      },
      "source": [
        "corr_mat= np.round(data.corr(method = 'pearson'),4)\n",
        "plt.figure(figsize = (18,9))\n",
        "sns.heatmap(corr_mat, annot = True)\n",
        "plt.show()"
      ],
      "execution_count": null,
      "outputs": [
        {
          "output_type": "display_data",
          "data": {
            "image/png": "[encoded data removed]",
            "text/plain": [
              "<Figure size 1296x648 with 2 Axes>"
            ]
          },
          "metadata": {
            "tags": [],
            "needs_background": "light"
          }
        }
      ]
    },
    {
      "cell_type": "code",
      "metadata": {
        "colab": {
          "base_uri": "https://localhost:8080/",
          "height": 574
        },
        "id": "b6CW17zuIApc",
        "outputId": "bf80f331-8e6b-499b-b373-e9fc4ac24d99"
      },
      "source": [
        "corr_mat= Y.corr()\n",
        "plt.figure(figsize = (18,9))\n",
        "sns.heatmap(corr_mat, annot = True)\n",
        "plt.show()"
      ],
      "execution_count": null,
      "outputs": [
        {
          "output_type": "display_data",
          "data": {
            "image/png": "[encoded data removed]",
            "text/plain": [
              "<Figure size 1296x648 with 2 Axes>"
            ]
          },
          "metadata": {
            "tags": [],
            "needs_background": "light"
          }
        }
      ]
    },
    {
      "cell_type": "code",
      "metadata": {
        "id": "eF_aKkKhi2VU",
        "colab": {
          "base_uri": "https://localhost:8080/",
          "height": 583
        },
        "outputId": "24e69862-9473-425d-e17d-afe8ca18da8e"
      },
      "source": [
        "vif = pd.DataFrame()\n",
        "vif['Features'] = data1.columns\n",
        "vif['VIF'] = [variance_inflation_factor(data.values, i) for i in range(data.shape[1])]\n",
        "vif['VIF'] = round(vif['VIF'], 2)\n",
        "vif = vif.sort_values(by = \"VIF\", ascending = False)\n",
        "vif"
      ],
      "execution_count": null,
      "outputs": [
        {
          "output_type": "stream",
          "text": [
            "/usr/local/lib/python3.6/dist-packages/statsmodels/stats/outliers_influence.py:185: RuntimeWarning: divide by zero encountered in double_scalars\n",
            "  vif = 1. / (1. - r_squared_i)\n"
          ],
          "name": "stderr"
        },
        {
          "output_type": "execute_result",
          "data": {
            "text/html": [
              "<div>\n",
              "<style scoped>\n",
              "    .dataframe tbody tr th:only-of-type {\n",
              "        vertical-align: middle;\n",
              "    }\n",
              "\n",
              "    .dataframe tbody tr th {\n",
              "        vertical-align: top;\n",
              "    }\n",
              "\n",
              "    .dataframe thead th {\n",
              "        text-align: right;\n",
              "    }\n",
              "</style>\n",
              "<table border=\"1\" class=\"dataframe\">\n",
              "  <thead>\n",
              "    <tr style=\"text-align: right;\">\n",
              "      <th></th>\n",
              "      <th>Features</th>\n",
              "      <th>VIF</th>\n",
              "    </tr>\n",
              "  </thead>\n",
              "  <tbody>\n",
              "    <tr>\n",
              "      <th>5</th>\n",
              "      <td>Starboard_propeller_torque</td>\n",
              "      <td>inf</td>\n",
              "    </tr>\n",
              "    <tr>\n",
              "      <th>6</th>\n",
              "      <td>Port_propeller_torque</td>\n",
              "      <td>inf</td>\n",
              "    </tr>\n",
              "    <tr>\n",
              "      <th>0</th>\n",
              "      <td>Lever_position</td>\n",
              "      <td>64865.33</td>\n",
              "    </tr>\n",
              "    <tr>\n",
              "      <th>1</th>\n",
              "      <td>Ship_speed</td>\n",
              "      <td>49209.07</td>\n",
              "    </tr>\n",
              "    <tr>\n",
              "      <th>2</th>\n",
              "      <td>Gas_turbine_shaft_torque</td>\n",
              "      <td>48092.07</td>\n",
              "    </tr>\n",
              "    <tr>\n",
              "      <th>9</th>\n",
              "      <td>HP_turbine_exit_pressure</td>\n",
              "      <td>38572.28</td>\n",
              "    </tr>\n",
              "    <tr>\n",
              "      <th>10</th>\n",
              "      <td>GT_compressor_outlet_air_pressure</td>\n",
              "      <td>29269.76</td>\n",
              "    </tr>\n",
              "    <tr>\n",
              "      <th>13</th>\n",
              "      <td>Fuel_flow</td>\n",
              "      <td>25139.45</td>\n",
              "    </tr>\n",
              "    <tr>\n",
              "      <th>7</th>\n",
              "      <td>HP_turbine_exit_temperature</td>\n",
              "      <td>7933.99</td>\n",
              "    </tr>\n",
              "    <tr>\n",
              "      <th>8</th>\n",
              "      <td>GT_compressor_outlet_air_temperature</td>\n",
              "      <td>3947.47</td>\n",
              "    </tr>\n",
              "    <tr>\n",
              "      <th>3</th>\n",
              "      <td>Gas_turbine_rate_of_revolutions</td>\n",
              "      <td>2268.00</td>\n",
              "    </tr>\n",
              "    <tr>\n",
              "      <th>11</th>\n",
              "      <td>Gas_turbine_exhaust_gas_pressure</td>\n",
              "      <td>1318.26</td>\n",
              "    </tr>\n",
              "    <tr>\n",
              "      <th>4</th>\n",
              "      <td>Gas_generator_rate_of_revolutions</td>\n",
              "      <td>876.46</td>\n",
              "    </tr>\n",
              "    <tr>\n",
              "      <th>12</th>\n",
              "      <td>Turbine_injection_control</td>\n",
              "      <td>108.17</td>\n",
              "    </tr>\n",
              "    <tr>\n",
              "      <th>15</th>\n",
              "      <td>GT_turbine_decay_state_coefficient</td>\n",
              "      <td>17.99</td>\n",
              "    </tr>\n",
              "    <tr>\n",
              "      <th>14</th>\n",
              "      <td>GT_compressor_decay_state_coefficient</td>\n",
              "      <td>10.16</td>\n",
              "    </tr>\n",
              "  </tbody>\n",
              "</table>\n",
              "</div>"
            ],
            "text/plain": [
              "                                 Features       VIF\n",
              "5              Starboard_propeller_torque       inf\n",
              "6                   Port_propeller_torque       inf\n",
              "0                          Lever_position  64865.33\n",
              "1                              Ship_speed  49209.07\n",
              "2                Gas_turbine_shaft_torque  48092.07\n",
              "9                HP_turbine_exit_pressure  38572.28\n",
              "10      GT_compressor_outlet_air_pressure  29269.76\n",
              "13                              Fuel_flow  25139.45\n",
              "7             HP_turbine_exit_temperature   7933.99\n",
              "8    GT_compressor_outlet_air_temperature   3947.47\n",
              "3         Gas_turbine_rate_of_revolutions   2268.00\n",
              "11       Gas_turbine_exhaust_gas_pressure   1318.26\n",
              "4       Gas_generator_rate_of_revolutions    876.46\n",
              "12              Turbine_injection_control    108.17\n",
              "15     GT_turbine_decay_state_coefficient     17.99\n",
              "14  GT_compressor_decay_state_coefficient     10.16"
            ]
          },
          "metadata": {
            "tags": []
          },
          "execution_count": 21
        }
      ]
    },
    {
      "cell_type": "code",
      "metadata": {
        "id": "xHJ9r0hK7I7_"
      },
      "source": [
        "#Split X,Y into train, test (70-30)\n",
        "X_train1, X_test1, y1_train, y1_test = train_test_split(X, Y1, test_size = 0.3)\n",
        "X_train2, X_test2, y2_train, y2_test = train_test_split(X, Y2, test_size = 0.3)"
      ],
      "execution_count": null,
      "outputs": []
    },
    {
      "cell_type": "code",
      "metadata": {
        "id": "ATxXjnOo8hW-"
      },
      "source": [
        "models = []\n",
        "models.append(('Linear Regression', LinearRegression()))\n",
        "models.append(('KNN', KNeighborsRegressor()))\n",
        "models.append(('Decision', DecisionTreeRegressor()))\n",
        "models.append(('Random Forest', RandomForestRegressor()))"
      ],
      "execution_count": null,
      "outputs": []
    },
    {
      "cell_type": "code",
      "metadata": {
        "id": "dt-PAw1Vs_FZ",
        "colab": {
          "base_uri": "https://localhost:8080/"
        },
        "outputId": "fddfdb4b-4080-46d6-d2d1-789d80bc7eae"
      },
      "source": [
        "#For compressor decay \n",
        "results = []\n",
        "names = []\n",
        "scoring = []\n",
        "for name, model in models:\n",
        "    # Fit the model\n",
        "    model.fit(X_train1, y1_train)\n",
        "    predictions = model.predict(X_test1)\n",
        "    predictions_train = model.predict(X_train1)\n",
        "    # Evaluate the model\n",
        "    score = r2_score(y1_test, predictions)\n",
        "    train_score = r2_score(y1_train, predictions_train)\n",
        "    mse = mean_squared_error(predictions, y1_test)\n",
        "    results.append(mse)\n",
        "    names.append(name)\n",
        "    msg = \"%s: Train %f, Test %f, Error %f\" %(name, train_score, score, mse)\n",
        "    print(msg)"
      ],
      "execution_count": null,
      "outputs": [
        {
          "output_type": "stream",
          "text": [
            "Linear Regression: Train 0.843676, Test 0.840362, Error 0.163777\n",
            "KNN: Train 0.955039, Test 0.918073, Error 0.084051\n",
            "Decision: Train 1.000000, Test 0.984062, Error 0.016351\n",
            "Random Forest: Train 0.999092, Test 0.994253, Error 0.005896\n"
          ],
          "name": "stdout"
        }
      ]
    },
    {
      "cell_type": "code",
      "metadata": {
        "id": "j-7H4yWcyt6i",
        "colab": {
          "base_uri": "https://localhost:8080/"
        },
        "outputId": "deadd499-17fa-4c50-c570-5c9f7fc3277f"
      },
      "source": [
        "#For turbine decay \n",
        "results = []\n",
        "names = []\n",
        "scoring = []\n",
        "for name, model in models:\n",
        "    # Fit the model\n",
        "    model.fit(X_train2, y2_train)\n",
        "    predictions = model.predict(X_test2)\n",
        "    predictions_train = model.predict(X_train2)\n",
        "    # Evaluate the model\n",
        "    score = r2_score(y2_test, predictions)\n",
        "    train_score = r2_score(y2_train, predictions_train)\n",
        "    results.append(mse)\n",
        "    names.append(name)\n",
        "    msg = \"%s: Train %f, Test %f, Error %f\" %(name, train_score, score, mse)\n",
        "    print(msg)"
      ],
      "execution_count": null,
      "outputs": [
        {
          "output_type": "stream",
          "text": [
            "Linear Regression: Train 0.911244, Test 0.910862, Error 0.005896\n",
            "KNN: Train 0.914175, Test 0.860251, Error 0.005896\n",
            "Decision: Train 1.000000, Test 0.958500, Error 0.005896\n",
            "Random Forest: Train 0.998257, Test 0.988999, Error 0.005896\n"
          ],
          "name": "stdout"
        }
      ]
    },
    {
      "cell_type": "code",
      "metadata": {
        "id": "iDANiQfx_ppU"
      },
      "source": [
        "rf = RandomForestRegressor(n_estimators = 110, random_state = 1)\n",
        "rf.fit(X_train1, y1_train)\n",
        "y1_pred = rf.predict(X_test1)"
      ],
      "execution_count": null,
      "outputs": []
    },
    {
      "cell_type": "code",
      "metadata": {
        "id": "NqW925aMb7gU"
      },
      "source": [
        "rf.fit(X_train2, y2_train)\n",
        "y2_pred = rf.predict(X_test2)"
      ],
      "execution_count": null,
      "outputs": []
    },
    {
      "cell_type": "code",
      "metadata": {
        "colab": {
          "base_uri": "https://localhost:8080/"
        },
        "id": "W8vYRbIhQb9X",
        "outputId": "af1578dd-fa81-4f35-fe7d-0a38b2a4ef8d"
      },
      "source": [
        "y1_pred[0] #Compressor"
      ],
      "execution_count": null,
      "outputs": [
        {
          "output_type": "execute_result",
          "data": {
            "text/plain": [
              "-1.0553076680298183"
            ]
          },
          "metadata": {
            "tags": []
          },
          "execution_count": 28
        }
      ]
    },
    {
      "cell_type": "code",
      "metadata": {
        "colab": {
          "base_uri": "https://localhost:8080/"
        },
        "id": "sjc2gJ3PaCeA",
        "outputId": "fc96c2c0-1cbc-4ab8-ddb3-786828a641f1"
      },
      "source": [
        "y1_test[5626] #Compressor"
      ],
      "execution_count": null,
      "outputs": [
        {
          "output_type": "execute_result",
          "data": {
            "text/plain": [
              "-0.6122764910319048"
            ]
          },
          "metadata": {
            "tags": []
          },
          "execution_count": 29
        }
      ]
    },
    {
      "cell_type": "code",
      "metadata": {
        "id": "bExD9JBLJKtd",
        "colab": {
          "base_uri": "https://localhost:8080/"
        },
        "outputId": "139e7c1b-ec15-433c-a215-2e027e371535"
      },
      "source": [
        "data.iloc[5626]"
      ],
      "execution_count": null,
      "outputs": [
        {
          "output_type": "execute_result",
          "data": {
            "text/plain": [
              "Lever_position                          -1.167001\n",
              "Ship_speed                              -1.156500\n",
              "Gas_turbine_shaft_torque                -1.099562\n",
              "Gas_turbine_rate_of_revolutions         -0.991925\n",
              "Gas_generator_rate_of_revolutions       -1.257234\n",
              "Starboard_propeller_torque              -1.000911\n",
              "Port_propeller_torque                   -1.000911\n",
              "HP_turbine_exit_temperature             -1.348581\n",
              "GT_compressor_outlet_air_temperature    -1.194932\n",
              "HP_turbine_exit_pressure                -1.061748\n",
              "GT_compressor_outlet_air_pressure       -1.096239\n",
              "Gas_turbine_exhaust_gas_pressure        -1.004750\n",
              "Turbine_injection_control               -0.945851\n",
              "Fuel_flow                               -1.044248\n",
              "GT_compressor_decay_state_coefficient   -0.612276\n",
              "GT_turbine_decay_state_coefficient       0.338919\n",
              "Name: 5626, dtype: float64"
            ]
          },
          "metadata": {
            "tags": []
          },
          "execution_count": 30
        }
      ]
    },
    {
      "cell_type": "code",
      "metadata": {
        "colab": {
          "base_uri": "https://localhost:8080/"
        },
        "id": "ABBsWBhhcLeK",
        "outputId": "ead3e8ca-2230-461f-ab18-57a192a9b325"
      },
      "source": [
        "y2_pred[0] #Turbine"
      ],
      "execution_count": null,
      "outputs": [
        {
          "output_type": "execute_result",
          "data": {
            "text/plain": [
              "0.4575620063421368"
            ]
          },
          "metadata": {
            "tags": []
          },
          "execution_count": 31
        }
      ]
    },
    {
      "cell_type": "code",
      "metadata": {
        "colab": {
          "base_uri": "https://localhost:8080/"
        },
        "id": "NKrBfbuZcRFN",
        "outputId": "fe164373-7801-4230-fc54-e42aab6e55b5"
      },
      "source": [
        "y2_test[9445] #Turbine"
      ],
      "execution_count": null,
      "outputs": [
        {
          "output_type": "execute_result",
          "data": {
            "text/plain": [
              "1.404283765727103"
            ]
          },
          "metadata": {
            "tags": []
          },
          "execution_count": 40
        }
      ]
    },
    {
      "cell_type": "code",
      "metadata": {
        "colab": {
          "base_uri": "https://localhost:8080/"
        },
        "id": "JH_aq8ar1xZU",
        "outputId": "f1582993-363f-4fb3-fb58-e04ce7ac127e"
      },
      "source": [
        "data.iloc[251]"
      ],
      "execution_count": null,
      "outputs": [
        {
          "output_type": "execute_result",
          "data": {
            "text/plain": [
              "Lever_position                           1.164657\n",
              "Ship_speed                               1.169058\n",
              "Gas_turbine_shaft_torque                 1.082813\n",
              "Gas_turbine_rate_of_revolutions          1.238230\n",
              "Gas_generator_rate_of_revolutions        1.012218\n",
              "Starboard_propeller_torque               1.061996\n",
              "Port_propeller_torque                    1.061996\n",
              "HP_turbine_exit_temperature              1.107111\n",
              "GT_compressor_outlet_air_temperature     1.163627\n",
              "HP_turbine_exit_pressure                 1.161227\n",
              "GT_compressor_outlet_air_pressure        1.212168\n",
              "Gas_turbine_exhaust_gas_pressure         1.216866\n",
              "Turbine_injection_control                1.063718\n",
              "Fuel_flow                                1.079511\n",
              "GT_compressor_decay_state_coefficient    0.745201\n",
              "GT_turbine_decay_state_coefficient      -1.392298\n",
              "Name: 251, dtype: float64"
            ]
          },
          "metadata": {
            "tags": []
          },
          "execution_count": 41
        }
      ]
    },
    {
      "cell_type": "code",
      "metadata": {
        "colab": {
          "base_uri": "https://localhost:8080/"
        },
        "id": "vUV_B_yUYP5y",
        "outputId": "efbfbbb9-1ea0-48a1-f2a8-7ec38f2a28da"
      },
      "source": [
        "y1_test"
      ],
      "execution_count": null,
      "outputs": [
        {
          "output_type": "execute_result",
          "data": {
            "text/plain": [
              "4633   -1.019520\n",
              "2179   -0.001412\n",
              "8508   -1.494637\n",
              "7559    1.152444\n",
              "3386   -0.069286\n",
              "          ...   \n",
              "8479    0.541579\n",
              "2609   -0.544403\n",
              "1827    1.559687\n",
              "9176    0.541579\n",
              "8058   -1.562510\n",
              "Name: GT_compressor_decay_state_coefficient, Length: 3000, dtype: float64"
            ]
          },
          "metadata": {
            "tags": []
          },
          "execution_count": 42
        }
      ]
    },
    {
      "cell_type": "code",
      "metadata": {
        "id": "WIsL8-88GziY",
        "colab": {
          "base_uri": "https://localhost:8080/"
        },
        "outputId": "2905562c-bdf6-4d19-8240-c59b068c59af"
      },
      "source": [
        "y2_test"
      ],
      "execution_count": null,
      "outputs": [
        {
          "output_type": "execute_result",
          "data": {
            "text/plain": [
              "9580    0.472090\n",
              "4428    0.205749\n",
              "339     1.537454\n",
              "9445    1.404284\n",
              "3930   -0.193763\n",
              "          ...   \n",
              "6568   -0.859616\n",
              "7986    0.738431\n",
              "8666   -1.392298\n",
              "2665   -0.859616\n",
              "5412    1.004772\n",
              "Name: GT_turbine_decay_state_coefficient, Length: 3000, dtype: float64"
            ]
          },
          "metadata": {
            "tags": []
          },
          "execution_count": 43
        }
      ]
    },
    {
      "cell_type": "code",
      "metadata": {
        "id": "8LrOHgEbzJVx"
      },
      "source": [
        ""
      ],
      "execution_count": null,
      "outputs": []
    }
  ]
}